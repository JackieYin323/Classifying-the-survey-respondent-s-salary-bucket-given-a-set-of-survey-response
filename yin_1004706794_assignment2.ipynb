{
  "nbformat": 4,
  "nbformat_minor": 0,
  "metadata": {
    "colab": {
      "provenance": [],
      "collapsed_sections": []
    },
    "kernelspec": {
      "name": "python3",
      "display_name": "Python 3"
    },
    "language_info": {
      "name": "python"
    },
    "gpuClass": "standard",
    "accelerator": "GPU"
  },
  "cells": [
    {
      "cell_type": "markdown",
      "source": [
        "\n",
        "\n",
        "\n",
        "\n",
        "\n",
        "\n",
        "\n",
        "\n",
        "\n",
        "\n",
        "\n",
        "# MIE1624 assignment 2\n",
        "Jiekai Yin\n",
        "\n",
        "\n",
        "1004706794"
      ],
      "metadata": {
        "id": "ZJxee79URTkK"
      }
    },
    {
      "cell_type": "code",
      "source": [
        "import numpy as np\n",
        "import pandas as pd\n",
        "from sklearn.preprocessing import StandardScaler\n",
        "from sklearn.linear_model import LogisticRegression\n",
        "from sklearn.model_selection import train_test_split\n",
        "from sklearn.model_selection import KFold\n",
        "from sklearn.metrics import make_scorer, confusion_matrix\n",
        "from sklearn.model_selection import learning_curve\n",
        "import matplotlib.pyplot as plt\n",
        "import seaborn as sns\n"
      ],
      "metadata": {
        "id": "VV443iZaRcOc"
      },
      "execution_count": 1,
      "outputs": []
    },
    {
      "cell_type": "markdown",
      "source": [
        "## Read in Data"
      ],
      "metadata": {
        "id": "s8YXx8UjRjjF"
      }
    },
    {
      "cell_type": "code",
      "source": [
        "df = pd.read_csv('clean_kaggle_data_2022 2.csv')"
      ],
      "metadata": {
        "id": "WrL2TcUkRlxh",
        "colab": {
          "base_uri": "https://localhost:8080/"
        },
        "outputId": "48eb2a04-5d1b-4cfb-8fae-fd3db5a1a6f2"
      },
      "execution_count": 2,
      "outputs": [
        {
          "output_type": "stream",
          "name": "stderr",
          "text": [
            "/usr/local/lib/python3.7/dist-packages/IPython/core/interactiveshell.py:3326: DtypeWarning: Columns (0) have mixed types.Specify dtype option on import or set low_memory=False.\n",
            "  exec(code_obj, self.user_global_ns, self.user_ns)\n"
          ]
        }
      ]
    },
    {
      "cell_type": "code",
      "source": [
        "df.head(5)"
      ],
      "metadata": {
        "colab": {
          "base_uri": "https://localhost:8080/",
          "height": 820
        },
        "id": "rqXTHcmfS3Rt",
        "outputId": "01532892-0edf-4737-e019-8710a11e7878"
      },
      "execution_count": null,
      "outputs": [
        {
          "output_type": "execute_result",
          "data": {
            "text/plain": [
              "   Duration (in seconds)                           Q2  \\\n",
              "0  Duration (in seconds)  What is your age (# years)?   \n",
              "1                    851                        55-59   \n",
              "2                    501                        30-34   \n",
              "3                    787                          70+   \n",
              "4                   1132                        40-44   \n",
              "\n",
              "                                       Q3  \\\n",
              "0  What is your gender? - Selected Choice   \n",
              "1                                     Man   \n",
              "2                                     Man   \n",
              "3                                     Man   \n",
              "4                                     Man   \n",
              "\n",
              "                                          Q4  \\\n",
              "0  In which country do you currently reside?   \n",
              "1                                     France   \n",
              "2                                    Germany   \n",
              "3                                  Australia   \n",
              "4                   United States of America   \n",
              "\n",
              "                                                  Q5  \\\n",
              "0  Are you currently a student? (high school, uni...   \n",
              "1                                                 No   \n",
              "2                                                 No   \n",
              "3                                                 No   \n",
              "4                                                 No   \n",
              "\n",
              "                                                Q6_1  \\\n",
              "0  On which platforms have you begun or completed...   \n",
              "1                                           Coursera   \n",
              "2                                           Coursera   \n",
              "3                                           Coursera   \n",
              "4                                           Coursera   \n",
              "\n",
              "                                                Q6_2  \\\n",
              "0  On which platforms have you begun or completed...   \n",
              "1                                                NaN   \n",
              "2                                                edX   \n",
              "3                                                NaN   \n",
              "4                                                NaN   \n",
              "\n",
              "                                                Q6_3  \\\n",
              "0  On which platforms have you begun or completed...   \n",
              "1                               Kaggle Learn Courses   \n",
              "2                                                NaN   \n",
              "3                               Kaggle Learn Courses   \n",
              "4                               Kaggle Learn Courses   \n",
              "\n",
              "                                                Q6_4  \\\n",
              "0  On which platforms have you begun or completed...   \n",
              "1                                                NaN   \n",
              "2                                                NaN   \n",
              "3                                                NaN   \n",
              "4                                                NaN   \n",
              "\n",
              "                                                Q6_5  ...  \\\n",
              "0  On which platforms have you begun or completed...  ...   \n",
              "1                                                NaN  ...   \n",
              "2                                                NaN  ...   \n",
              "3                                                NaN  ...   \n",
              "4                                            Fast.ai  ...   \n",
              "\n",
              "                                               Q44_5  \\\n",
              "0  Who/what are your favorite media sources that ...   \n",
              "1  Course Forums (forums.fast.ai, Coursera forums...   \n",
              "2                                                NaN   \n",
              "3                                                NaN   \n",
              "4                                                NaN   \n",
              "\n",
              "                                               Q44_6  \\\n",
              "0  Who/what are your favorite media sources that ...   \n",
              "1                                                NaN   \n",
              "2  YouTube (Kaggle YouTube, Cloud AI Adventures, ...   \n",
              "3                                                NaN   \n",
              "4                                                NaN   \n",
              "\n",
              "                                               Q44_7  \\\n",
              "0  Who/what are your favorite media sources that ...   \n",
              "1                                                NaN   \n",
              "2                                                NaN   \n",
              "3  Podcasts (Chai Time Data Science, O’Reilly Dat...   \n",
              "4  Podcasts (Chai Time Data Science, O’Reilly Dat...   \n",
              "\n",
              "                                               Q44_8  \\\n",
              "0  Who/what are your favorite media sources that ...   \n",
              "1  Blogs (Towards Data Science, Analytics Vidhya,...   \n",
              "2  Blogs (Towards Data Science, Analytics Vidhya,...   \n",
              "3                                                NaN   \n",
              "4  Blogs (Towards Data Science, Analytics Vidhya,...   \n",
              "\n",
              "                                               Q44_9  \\\n",
              "0  Who/what are your favorite media sources that ...   \n",
              "1                                                NaN   \n",
              "2                                                NaN   \n",
              "3                                                NaN   \n",
              "4                                                NaN   \n",
              "\n",
              "                                              Q44_10  \\\n",
              "0  Who/what are your favorite media sources that ...   \n",
              "1                                                NaN   \n",
              "2                                                NaN   \n",
              "3                                                NaN   \n",
              "4                                                NaN   \n",
              "\n",
              "                                              Q44_11  \\\n",
              "0  Who/what are your favorite media sources that ...   \n",
              "1                                                NaN   \n",
              "2                                                NaN   \n",
              "3                                                NaN   \n",
              "4                                                NaN   \n",
              "\n",
              "                                              Q44_12 Q29_Encoded  \\\n",
              "0  Who/what are your favorite media sources that ...         NaN   \n",
              "1                                                NaN         2.0   \n",
              "2                                                NaN        10.0   \n",
              "3                                                NaN        10.0   \n",
              "4                                                NaN        13.0   \n",
              "\n",
              "       Q29_buckets  \n",
              "0              NaN  \n",
              "1    20,000-29,999  \n",
              "2  100,000-124,999  \n",
              "3  100,000-124,999  \n",
              "4  200,000-299,999  \n",
              "\n",
              "[5 rows x 298 columns]"
            ],
            "text/html": [
              "\n",
              "  <div id=\"df-a1b1429a-739d-4625-981b-09934c5f294c\">\n",
              "    <div class=\"colab-df-container\">\n",
              "      <div>\n",
              "<style scoped>\n",
              "    .dataframe tbody tr th:only-of-type {\n",
              "        vertical-align: middle;\n",
              "    }\n",
              "\n",
              "    .dataframe tbody tr th {\n",
              "        vertical-align: top;\n",
              "    }\n",
              "\n",
              "    .dataframe thead th {\n",
              "        text-align: right;\n",
              "    }\n",
              "</style>\n",
              "<table border=\"1\" class=\"dataframe\">\n",
              "  <thead>\n",
              "    <tr style=\"text-align: right;\">\n",
              "      <th></th>\n",
              "      <th>Duration (in seconds)</th>\n",
              "      <th>Q2</th>\n",
              "      <th>Q3</th>\n",
              "      <th>Q4</th>\n",
              "      <th>Q5</th>\n",
              "      <th>Q6_1</th>\n",
              "      <th>Q6_2</th>\n",
              "      <th>Q6_3</th>\n",
              "      <th>Q6_4</th>\n",
              "      <th>Q6_5</th>\n",
              "      <th>...</th>\n",
              "      <th>Q44_5</th>\n",
              "      <th>Q44_6</th>\n",
              "      <th>Q44_7</th>\n",
              "      <th>Q44_8</th>\n",
              "      <th>Q44_9</th>\n",
              "      <th>Q44_10</th>\n",
              "      <th>Q44_11</th>\n",
              "      <th>Q44_12</th>\n",
              "      <th>Q29_Encoded</th>\n",
              "      <th>Q29_buckets</th>\n",
              "    </tr>\n",
              "  </thead>\n",
              "  <tbody>\n",
              "    <tr>\n",
              "      <th>0</th>\n",
              "      <td>Duration (in seconds)</td>\n",
              "      <td>What is your age (# years)?</td>\n",
              "      <td>What is your gender? - Selected Choice</td>\n",
              "      <td>In which country do you currently reside?</td>\n",
              "      <td>Are you currently a student? (high school, uni...</td>\n",
              "      <td>On which platforms have you begun or completed...</td>\n",
              "      <td>On which platforms have you begun or completed...</td>\n",
              "      <td>On which platforms have you begun or completed...</td>\n",
              "      <td>On which platforms have you begun or completed...</td>\n",
              "      <td>On which platforms have you begun or completed...</td>\n",
              "      <td>...</td>\n",
              "      <td>Who/what are your favorite media sources that ...</td>\n",
              "      <td>Who/what are your favorite media sources that ...</td>\n",
              "      <td>Who/what are your favorite media sources that ...</td>\n",
              "      <td>Who/what are your favorite media sources that ...</td>\n",
              "      <td>Who/what are your favorite media sources that ...</td>\n",
              "      <td>Who/what are your favorite media sources that ...</td>\n",
              "      <td>Who/what are your favorite media sources that ...</td>\n",
              "      <td>Who/what are your favorite media sources that ...</td>\n",
              "      <td>NaN</td>\n",
              "      <td>NaN</td>\n",
              "    </tr>\n",
              "    <tr>\n",
              "      <th>1</th>\n",
              "      <td>851</td>\n",
              "      <td>55-59</td>\n",
              "      <td>Man</td>\n",
              "      <td>France</td>\n",
              "      <td>No</td>\n",
              "      <td>Coursera</td>\n",
              "      <td>NaN</td>\n",
              "      <td>Kaggle Learn Courses</td>\n",
              "      <td>NaN</td>\n",
              "      <td>NaN</td>\n",
              "      <td>...</td>\n",
              "      <td>Course Forums (forums.fast.ai, Coursera forums...</td>\n",
              "      <td>NaN</td>\n",
              "      <td>NaN</td>\n",
              "      <td>Blogs (Towards Data Science, Analytics Vidhya,...</td>\n",
              "      <td>NaN</td>\n",
              "      <td>NaN</td>\n",
              "      <td>NaN</td>\n",
              "      <td>NaN</td>\n",
              "      <td>2.0</td>\n",
              "      <td>20,000-29,999</td>\n",
              "    </tr>\n",
              "    <tr>\n",
              "      <th>2</th>\n",
              "      <td>501</td>\n",
              "      <td>30-34</td>\n",
              "      <td>Man</td>\n",
              "      <td>Germany</td>\n",
              "      <td>No</td>\n",
              "      <td>Coursera</td>\n",
              "      <td>edX</td>\n",
              "      <td>NaN</td>\n",
              "      <td>NaN</td>\n",
              "      <td>NaN</td>\n",
              "      <td>...</td>\n",
              "      <td>NaN</td>\n",
              "      <td>YouTube (Kaggle YouTube, Cloud AI Adventures, ...</td>\n",
              "      <td>NaN</td>\n",
              "      <td>Blogs (Towards Data Science, Analytics Vidhya,...</td>\n",
              "      <td>NaN</td>\n",
              "      <td>NaN</td>\n",
              "      <td>NaN</td>\n",
              "      <td>NaN</td>\n",
              "      <td>10.0</td>\n",
              "      <td>100,000-124,999</td>\n",
              "    </tr>\n",
              "    <tr>\n",
              "      <th>3</th>\n",
              "      <td>787</td>\n",
              "      <td>70+</td>\n",
              "      <td>Man</td>\n",
              "      <td>Australia</td>\n",
              "      <td>No</td>\n",
              "      <td>Coursera</td>\n",
              "      <td>NaN</td>\n",
              "      <td>Kaggle Learn Courses</td>\n",
              "      <td>NaN</td>\n",
              "      <td>NaN</td>\n",
              "      <td>...</td>\n",
              "      <td>NaN</td>\n",
              "      <td>NaN</td>\n",
              "      <td>Podcasts (Chai Time Data Science, O’Reilly Dat...</td>\n",
              "      <td>NaN</td>\n",
              "      <td>NaN</td>\n",
              "      <td>NaN</td>\n",
              "      <td>NaN</td>\n",
              "      <td>NaN</td>\n",
              "      <td>10.0</td>\n",
              "      <td>100,000-124,999</td>\n",
              "    </tr>\n",
              "    <tr>\n",
              "      <th>4</th>\n",
              "      <td>1132</td>\n",
              "      <td>40-44</td>\n",
              "      <td>Man</td>\n",
              "      <td>United States of America</td>\n",
              "      <td>No</td>\n",
              "      <td>Coursera</td>\n",
              "      <td>NaN</td>\n",
              "      <td>Kaggle Learn Courses</td>\n",
              "      <td>NaN</td>\n",
              "      <td>Fast.ai</td>\n",
              "      <td>...</td>\n",
              "      <td>NaN</td>\n",
              "      <td>NaN</td>\n",
              "      <td>Podcasts (Chai Time Data Science, O’Reilly Dat...</td>\n",
              "      <td>Blogs (Towards Data Science, Analytics Vidhya,...</td>\n",
              "      <td>NaN</td>\n",
              "      <td>NaN</td>\n",
              "      <td>NaN</td>\n",
              "      <td>NaN</td>\n",
              "      <td>13.0</td>\n",
              "      <td>200,000-299,999</td>\n",
              "    </tr>\n",
              "  </tbody>\n",
              "</table>\n",
              "<p>5 rows × 298 columns</p>\n",
              "</div>\n",
              "      <button class=\"colab-df-convert\" onclick=\"convertToInteractive('df-a1b1429a-739d-4625-981b-09934c5f294c')\"\n",
              "              title=\"Convert this dataframe to an interactive table.\"\n",
              "              style=\"display:none;\">\n",
              "        \n",
              "  <svg xmlns=\"http://www.w3.org/2000/svg\" height=\"24px\"viewBox=\"0 0 24 24\"\n",
              "       width=\"24px\">\n",
              "    <path d=\"M0 0h24v24H0V0z\" fill=\"none\"/>\n",
              "    <path d=\"M18.56 5.44l.94 2.06.94-2.06 2.06-.94-2.06-.94-.94-2.06-.94 2.06-2.06.94zm-11 1L8.5 8.5l.94-2.06 2.06-.94-2.06-.94L8.5 2.5l-.94 2.06-2.06.94zm10 10l.94 2.06.94-2.06 2.06-.94-2.06-.94-.94-2.06-.94 2.06-2.06.94z\"/><path d=\"M17.41 7.96l-1.37-1.37c-.4-.4-.92-.59-1.43-.59-.52 0-1.04.2-1.43.59L10.3 9.45l-7.72 7.72c-.78.78-.78 2.05 0 2.83L4 21.41c.39.39.9.59 1.41.59.51 0 1.02-.2 1.41-.59l7.78-7.78 2.81-2.81c.8-.78.8-2.07 0-2.86zM5.41 20L4 18.59l7.72-7.72 1.47 1.35L5.41 20z\"/>\n",
              "  </svg>\n",
              "      </button>\n",
              "      \n",
              "  <style>\n",
              "    .colab-df-container {\n",
              "      display:flex;\n",
              "      flex-wrap:wrap;\n",
              "      gap: 12px;\n",
              "    }\n",
              "\n",
              "    .colab-df-convert {\n",
              "      background-color: #E8F0FE;\n",
              "      border: none;\n",
              "      border-radius: 50%;\n",
              "      cursor: pointer;\n",
              "      display: none;\n",
              "      fill: #1967D2;\n",
              "      height: 32px;\n",
              "      padding: 0 0 0 0;\n",
              "      width: 32px;\n",
              "    }\n",
              "\n",
              "    .colab-df-convert:hover {\n",
              "      background-color: #E2EBFA;\n",
              "      box-shadow: 0px 1px 2px rgba(60, 64, 67, 0.3), 0px 1px 3px 1px rgba(60, 64, 67, 0.15);\n",
              "      fill: #174EA6;\n",
              "    }\n",
              "\n",
              "    [theme=dark] .colab-df-convert {\n",
              "      background-color: #3B4455;\n",
              "      fill: #D2E3FC;\n",
              "    }\n",
              "\n",
              "    [theme=dark] .colab-df-convert:hover {\n",
              "      background-color: #434B5C;\n",
              "      box-shadow: 0px 1px 3px 1px rgba(0, 0, 0, 0.15);\n",
              "      filter: drop-shadow(0px 1px 2px rgba(0, 0, 0, 0.3));\n",
              "      fill: #FFFFFF;\n",
              "    }\n",
              "  </style>\n",
              "\n",
              "      <script>\n",
              "        const buttonEl =\n",
              "          document.querySelector('#df-a1b1429a-739d-4625-981b-09934c5f294c button.colab-df-convert');\n",
              "        buttonEl.style.display =\n",
              "          google.colab.kernel.accessAllowed ? 'block' : 'none';\n",
              "\n",
              "        async function convertToInteractive(key) {\n",
              "          const element = document.querySelector('#df-a1b1429a-739d-4625-981b-09934c5f294c');\n",
              "          const dataTable =\n",
              "            await google.colab.kernel.invokeFunction('convertToInteractive',\n",
              "                                                     [key], {});\n",
              "          if (!dataTable) return;\n",
              "\n",
              "          const docLinkHtml = 'Like what you see? Visit the ' +\n",
              "            '<a target=\"_blank\" href=https://colab.research.google.com/notebooks/data_table.ipynb>data table notebook</a>'\n",
              "            + ' to learn more about interactive tables.';\n",
              "          element.innerHTML = '';\n",
              "          dataTable['output_type'] = 'display_data';\n",
              "          await google.colab.output.renderOutput(dataTable, element);\n",
              "          const docLink = document.createElement('div');\n",
              "          docLink.innerHTML = docLinkHtml;\n",
              "          element.appendChild(docLink);\n",
              "        }\n",
              "      </script>\n",
              "    </div>\n",
              "  </div>\n",
              "  "
            ]
          },
          "metadata": {},
          "execution_count": 5
        }
      ]
    },
    {
      "cell_type": "markdown",
      "source": [
        "## Data cleaning"
      ],
      "metadata": {
        "id": "gQ9K4lO3a92D"
      }
    },
    {
      "cell_type": "code",
      "source": [
        "# Show the distribution of Q3\n",
        "Q4_cates = [v for v in df['Q4'].unique() if type(v) == str]\n",
        "fig, ax = plt.subplots(figsize=(20,5))\n",
        "sns.countplot(x='Q4', data=df, ax=ax, order=Q4_cates)"
      ],
      "metadata": {
        "colab": {
          "base_uri": "https://localhost:8080/",
          "height": 352
        },
        "id": "y93B0j8hT9ah",
        "outputId": "efeb394a-1a79-4648-b490-5a447010974e"
      },
      "execution_count": null,
      "outputs": [
        {
          "output_type": "execute_result",
          "data": {
            "text/plain": [
              "<matplotlib.axes._subplots.AxesSubplot at 0x7fb799df41d0>"
            ]
          },
          "metadata": {},
          "execution_count": 17
        },
        {
          "output_type": "display_data",
          "data": {
            "text/plain": [
              "<Figure size 1440x360 with 1 Axes>"
            ],
            "image/png": "[encoded data removed]"
          },
          "metadata": {
            "needs_background": "light"
          }
        }
      ]
    },
    {
      "cell_type": "code",
      "source": [
        "print (\"Countries currently reside:\")\n",
        "df['Q4'].value_counts().head(10)"
      ],
      "metadata": {
        "colab": {
          "base_uri": "https://localhost:8080/"
        },
        "id": "p6egKIBbcclw",
        "outputId": "2a9e2200-ce42-4644-ee0f-34fe76d46cdd"
      },
      "execution_count": null,
      "outputs": [
        {
          "output_type": "stream",
          "name": "stdout",
          "text": [
            "Countries currently reside:\n"
          ]
        },
        {
          "output_type": "execute_result",
          "data": {
            "text/plain": [
              "India                                                   2328\n",
              "United States of America                                1434\n",
              "Other                                                    511\n",
              "Japan                                                    333\n",
              "Brazil                                                   292\n",
              "Nigeria                                                  159\n",
              "Spain                                                    140\n",
              "Mexico                                                   139\n",
              "United Kingdom of Great Britain and Northern Ireland     139\n",
              "France                                                   137\n",
              "Name: Q4, dtype: int64"
            ]
          },
          "metadata": {},
          "execution_count": 18
        }
      ]
    },
    {
      "cell_type": "markdown",
      "source": [
        "Since there is a large number of countries that has too few people, we merge the category into \"India\", \"United States of America\", \"Brazil\", \"Japan\" and \"Russia\", which are the 6 countries with the largest number of people. The other people are merged to the category \"other\"."
      ],
      "metadata": {
        "id": "wrvMncEqNLux"
      }
    },
    {
      "cell_type": "code",
      "source": [
        "# Change the rest of the countries as Other\n",
        "countries_selected = [\"India\", \"United States of America\", \"Brazil\", \"Japan\", \"Russia\"]\n",
        "df[\"Q4\"]=df[\"Q4\"].apply(lambda x: x if x in countries_selected else \"Other\")\n",
        "fig, ax = plt.subplots(figsize=(15,5))\n",
        "sns.countplot(x='Q4', ax=ax, data=df)"
      ],
      "metadata": {
        "colab": {
          "base_uri": "https://localhost:8080/",
          "height": 352
        },
        "id": "kyhs6LHAdBHL",
        "outputId": "d324c121-39a1-4a82-d638-77d2a5b9d037"
      },
      "execution_count": 3,
      "outputs": [
        {
          "output_type": "execute_result",
          "data": {
            "text/plain": [
              "<matplotlib.axes._subplots.AxesSubplot at 0x7f4b6577be50>"
            ]
          },
          "metadata": {},
          "execution_count": 3
        },
        {
          "output_type": "display_data",
          "data": {
            "text/plain": [
              "<Figure size 1080x360 with 1 Axes>"
            ],
            "image/png": "[encoded data removed]"
          },
          "metadata": {
            "needs_background": "light"
          }
        }
      ]
    },
    {
      "cell_type": "markdown",
      "source": [
        "## Convert Categorical Variables\n",
        "\n"
      ],
      "metadata": {
        "id": "su4wqCrQw9c4"
      }
    },
    {
      "cell_type": "code",
      "source": [
        "# remove the description row\n",
        "df1 = df.iloc[1:]"
      ],
      "metadata": {
        "id": "4KHTMNtayeWZ"
      },
      "execution_count": 4,
      "outputs": []
    },
    {
      "cell_type": "code",
      "source": [
        "# since we use encoded Q29 as output, we drop Q29_buckets.\n",
        "df1.drop([\"Q29_buckets\"], axis=1, inplace=True)"
      ],
      "metadata": {
        "id": "ReO35nyIIloY",
        "colab": {
          "base_uri": "https://localhost:8080/"
        },
        "outputId": "ecc2974f-47db-4009-9e89-aae360bcff86"
      },
      "execution_count": 5,
      "outputs": [
        {
          "output_type": "stream",
          "name": "stderr",
          "text": [
            "/usr/local/lib/python3.7/dist-packages/pandas/core/frame.py:4913: SettingWithCopyWarning: \n",
            "A value is trying to be set on a copy of a slice from a DataFrame\n",
            "\n",
            "See the caveats in the documentation: https://pandas.pydata.org/pandas-docs/stable/user_guide/indexing.html#returning-a-view-versus-a-copy\n",
            "  errors=errors,\n"
          ]
        }
      ]
    },
    {
      "cell_type": "markdown",
      "source": [
        "We convert all the categorical features into dummies."
      ],
      "metadata": {
        "id": "m79sS2vqOJhf"
      }
    },
    {
      "cell_type": "code",
      "source": [
        "# Find the categorical variables\n",
        "for col in df1.columns:\n",
        "  if \"_\" in col and col != \"Q29_Encoded\":\n",
        "    # Create dummy features for each categorical feature\n",
        "    # Drop the first dummy variables because its value is implied\n",
        "    # by the other dummy variable columns\n",
        "    dummies = pd.get_dummies(df1[col], prefix=col)\n",
        "   \n",
        "    # Add the new features to the dataframe via concating\n",
        "    df1 = pd.concat([df1, dummies], axis=1)\n",
        "\n",
        "    # Drop the original categorical feature columns\n",
        "    df1.drop(col, axis=1, inplace=True)"
      ],
      "metadata": {
        "id": "CceoanzjzPlO"
      },
      "execution_count": 6,
      "outputs": []
    },
    {
      "cell_type": "code",
      "source": [
        "# convert Q3, Q4, Q23, Q24 into categorical variables\n",
        "cate_cols = ['Q3', 'Q4', 'Q23', 'Q24']\n",
        "for col in cate_cols:\n",
        "    # Create dummy features for each categorical feature\n",
        "    # Drop the first dummy variables because its value is implied\n",
        "    # by the other dummy variable columns\n",
        "    dummies1 = pd.get_dummies(df1[col], prefix=col)\n",
        "\n",
        "    # Add the new features to the dataframe via concating\n",
        "    df1 = pd.concat([df1, dummies1], axis=1)\n",
        "\n",
        "    # Drop the original categorical feature columns\n",
        "    df1.drop(col, axis=1, inplace=True)"
      ],
      "metadata": {
        "id": "87BEgYNWgj_7"
      },
      "execution_count": 7,
      "outputs": []
    },
    {
      "cell_type": "markdown",
      "source": [
        "## Handle NA values"
      ],
      "metadata": {
        "id": "3MUYQvVRenzM"
      }
    },
    {
      "cell_type": "code",
      "source": [
        "# Find the columns with NaN\n",
        "\n",
        "for col in df1.columns:\n",
        "    if \"_\" not in col or col == 'Q29_Encoded':\n",
        "      print(col, df1[df1[col].isnull()].shape[0]/df1.shape[0])"
      ],
      "metadata": {
        "colab": {
          "base_uri": "https://localhost:8080/"
        },
        "id": "HwFRlAO8e40W",
        "outputId": "69580a17-0156-427d-83ea-ec8523ed227b"
      },
      "execution_count": null,
      "outputs": [
        {
          "output_type": "stream",
          "name": "stdout",
          "text": [
            "Duration (in seconds) 0.0\n",
            "Q2 0.0\n",
            "Q5 0.0\n",
            "Q8 0.0\n",
            "Q9 0.3614798426745329\n",
            "Q11 0.0\n",
            "Q16 0.084070796460177\n",
            "Q22 0.801622418879056\n",
            "Q25 0.0\n",
            "Q26 0.0\n",
            "Q27 0.0\n",
            "Q29 0.0\n",
            "Q30 0.006145526057030482\n",
            "Q32 0.7712635201573255\n",
            "Q43 0.4575958702064897\n",
            "Q29_Encoded 0.0\n"
          ]
        }
      ]
    },
    {
      "cell_type": "markdown",
      "source": [
        "We drop the variable Q22 and Q32 since they have huge proportations of missing values.\n",
        "We keep Duration (in seconds) now since the longer time people answer the question."
      ],
      "metadata": {
        "id": "aIo6AsIEPlQm"
      }
    },
    {
      "cell_type": "code",
      "source": [
        "df1.drop([\"Q22\", \"Q32\", \"Q9\",\"Q43\"], axis=1, inplace=True)"
      ],
      "metadata": {
        "id": "TNkeLnNxAJ_U"
      },
      "execution_count": 8,
      "outputs": []
    },
    {
      "cell_type": "markdown",
      "source": [
        "We drop the rows that Q16 or Q30 have na."
      ],
      "metadata": {
        "id": "V1UVK7mXPseC"
      }
    },
    {
      "cell_type": "code",
      "source": [
        "df1 = df1.dropna(subset=['Q16', 'Q30'])\n",
        "df1.shape"
      ],
      "metadata": {
        "colab": {
          "base_uri": "https://localhost:8080/"
        },
        "id": "1YguwhL-C5Rk",
        "outputId": "c5276ac1-cd2d-40a3-bfa4-9c3d448fcf60"
      },
      "execution_count": 9,
      "outputs": [
        {
          "output_type": "execute_result",
          "data": {
            "text/plain": [
              "(7409, 329)"
            ]
          },
          "metadata": {},
          "execution_count": 9
        }
      ]
    },
    {
      "cell_type": "markdown",
      "source": [
        "## Convert Integer Variables\n"
      ],
      "metadata": {
        "id": "A6SBL18Tywt8"
      }
    },
    {
      "cell_type": "markdown",
      "source": [
        "We select the features that need to be converted into integer variables."
      ],
      "metadata": {
        "id": "O6Bc2CJ0QPOp"
      }
    },
    {
      "cell_type": "code",
      "source": [
        "int_cols = []                            \n",
        "for col in df1.columns:\n",
        "    us = list(df1[col].unique())\n",
        "    if us != [0,1] and us != [1,0] and col != \"Q29_Encoded\":\n",
        "        int_cols.append(col)\n",
        "        print(col, df1[col].unique())    #Q2 8 11 16 25 26 27 30"
      ],
      "metadata": {
        "colab": {
          "base_uri": "https://localhost:8080/"
        },
        "id": "-XwfGvkXL-1l",
        "outputId": "58449f55-8626-4230-de3c-fca82b390fbd"
      },
      "execution_count": null,
      "outputs": [
        {
          "output_type": "stream",
          "name": "stdout",
          "text": [
            "Duration (in seconds) ['851' '501' '787' ... 8570 38795 1651]\n",
            "Q2 ['55-59' '30-34' '70+' '40-44' '50-54' '25-29' '60-69' '35-39' '22-24'\n",
            " '45-49' '18-21']\n",
            "Q5 ['No']\n",
            "Q8 ['Some college/university study without earning a bachelor’s degree'\n",
            " 'Bachelor’s degree' 'Doctoral degree' 'Master’s degree'\n",
            " 'I prefer not to answer' 'No formal education past high school'\n",
            " 'Professional doctorate']\n",
            "Q11 ['10-20 years' '20+ years' '5-10 years' '3-5 years' '< 1 years'\n",
            " '1-3 years']\n",
            "Q16 ['1-2 years' '4-5 years' '5-10 years' '2-3 years' 'Under 1 year'\n",
            " '3-4 years' '10-20 years' 'I do not use machine learning methods']\n",
            "Q25 ['0-49 employees' '250-999 employees' '1000-9,999 employees'\n",
            " '50-249 employees' '10,000 or more employees']\n",
            "Q26 ['1-2' '20+' '3-4' '5-9' '0' '10-14' '15-19']\n",
            "Q27 ['We recently started using ML methods (i.e., models in production for less than 2 years)'\n",
            " 'We have well established ML methods (i.e., models in production for more than 2 years)'\n",
            " 'We are exploring ML methods (and may one day put a model into production)'\n",
            " 'I do not know'\n",
            " 'We use ML methods for generating insights (but do not put working models into production)'\n",
            " 'No (we do not use ML methods)']\n",
            "Q29 ['25,000-29,999' '100,000-124,999' '200,000-249,999' '150,000-199,999'\n",
            " '90,000-99,999' '30,000-39,999' '3,000-3,999' '50,000-59,999'\n",
            " '125,000-149,999' '15,000-19,999' '5,000-7,499' '10,000-14,999'\n",
            " '20,000-24,999' '$0-999' '7,500-9,999' '4,000-4,999' '2,000-2,999'\n",
            " '80,000-89,999' '250,000-299,999' '$500,000-999,999' '70,000-79,999'\n",
            " '1,000-1,999' '60,000-69,999' '40,000-49,999' '>$1,000,000'\n",
            " '300,000-499,999']\n",
            "Q30 ['$1000-$9,999' '$0 ($USD)' '$100-$999' '$100,000 or more ($USD)' '$1-$99'\n",
            " '$10,000-$99,999']\n"
          ]
        }
      ]
    },
    {
      "cell_type": "code",
      "source": [
        "# drop Q5 since there is only 1 answer\n",
        "df1.drop([\"Q5\"], axis=1, inplace=True)"
      ],
      "metadata": {
        "id": "3vlTUOdX3HW2"
      },
      "execution_count": 10,
      "outputs": []
    },
    {
      "cell_type": "code",
      "source": [
        "# Q2\n",
        "Q2_dt = {'18-21':0, '22-24':1, '25-29':2, '30-34':3, '35-39':4, '40-44':5, '45-49':6, '50-54':7, '55-59':8, \n",
        "         '60-69':9, '70+':10}\n",
        "df1['Q2'] = df1['Q2'].map(Q2_dt)\n",
        "print(\"Q2: \", df1['Q2'].unique())"
      ],
      "metadata": {
        "colab": {
          "base_uri": "https://localhost:8080/"
        },
        "id": "x0QhRie6gfAl",
        "outputId": "f0f425e1-4cca-4cda-e458-dc0e71728243"
      },
      "execution_count": 11,
      "outputs": [
        {
          "output_type": "stream",
          "name": "stdout",
          "text": [
            "Q2:  [ 8  3 10  5  7  2  9  4  1  6  0]\n"
          ]
        }
      ]
    },
    {
      "cell_type": "code",
      "source": [
        "df2 = df1.copy() "
      ],
      "metadata": {
        "id": "AjaSXkjaggJs"
      },
      "execution_count": 12,
      "outputs": []
    },
    {
      "cell_type": "code",
      "source": [
        "# Q8\n",
        "Q8_dt = {'I prefer not to answer':0, 'No formal education past high school':1, \n",
        "         'Some college/university study without earning a bachelor’s degree':2,\n",
        "         'Bachelor’s degree':3, 'Master’s degree':4, 'Professional doctorate':5,\n",
        "         'Doctoral degree':5}\n",
        "df2['Q8'] = df2['Q8'].map(Q8_dt)\n",
        "print(\"Q8: \", df2['Q8'].unique())\n",
        "\n"
      ],
      "metadata": {
        "colab": {
          "base_uri": "https://localhost:8080/"
        },
        "id": "usOWREAjbjqN",
        "outputId": "01e37f3c-6f89-41f6-82a2-52793295bdbe"
      },
      "execution_count": 13,
      "outputs": [
        {
          "output_type": "stream",
          "name": "stdout",
          "text": [
            "Q8:  [2 3 5 4 0 1]\n"
          ]
        }
      ]
    },
    {
      "cell_type": "code",
      "source": [
        "# Q25\n",
        "Q25_dt = {'0-49 employees':1, '50-249 employees':5, '250-999 employees':25, \n",
        "         '1000-9,999 employees':250, '10,000 or more employees':500}\n",
        "df2['Q25'] = df2['Q25'].map(Q25_dt)\n",
        "print(\"Q25: \", df2['Q25'].unique())\n"
      ],
      "metadata": {
        "colab": {
          "base_uri": "https://localhost:8080/"
        },
        "id": "KD4Hj_qphc6R",
        "outputId": "df9e108f-b69c-4a7b-ece9-707b28650fd4"
      },
      "execution_count": 14,
      "outputs": [
        {
          "output_type": "stream",
          "name": "stdout",
          "text": [
            "Q25:  [  1  25 250   5 500]\n"
          ]
        }
      ]
    },
    {
      "cell_type": "code",
      "source": [
        "#Q26\n",
        "Q26_dt = {'0':0, '1-2':1, '3-4':2, '5-9':3, '10-14':4, '15-19':5, '20+':6}\n",
        "df2['Q26'] = df2['Q26'].map(Q26_dt)\n",
        "print(\"Q26: \", df2['Q26'].unique())"
      ],
      "metadata": {
        "colab": {
          "base_uri": "https://localhost:8080/"
        },
        "id": "OQ4m1OFlic8K",
        "outputId": "ffff10e7-6bfc-41c7-cf93-ccd4893d7e1c"
      },
      "execution_count": 15,
      "outputs": [
        {
          "output_type": "stream",
          "name": "stdout",
          "text": [
            "Q26:  [1 6 2 3 0 4 5]\n"
          ]
        }
      ]
    },
    {
      "cell_type": "code",
      "source": [
        "# Q27\n",
        "Q27_dt = {'I do not know':0,\n",
        "         'No (we do not use ML methods)': 1,\n",
        "         'We use ML methods for generating insights (but do not put working models into production)':3,\n",
        "         'We are exploring ML methods (and may one day put a model into production)':2,\n",
        "         'We recently started using ML methods (i.e., models in production for less than 2 years)':4,\n",
        "         'We have well established ML methods (i.e., models in production for more than 2 years)':5}\n",
        "df2['Q27'] = df2['Q27'].map(Q27_dt)\n",
        "print(\"Q27: \", df2['Q27'].unique())"
      ],
      "metadata": {
        "colab": {
          "base_uri": "https://localhost:8080/"
        },
        "id": "RQGVlfH9j2IH",
        "outputId": "bf8d5a18-c01c-40a4-d9e9-4955ac258059"
      },
      "execution_count": 16,
      "outputs": [
        {
          "output_type": "stream",
          "name": "stdout",
          "text": [
            "Q27:  [4 5 2 0 3 1]\n"
          ]
        }
      ]
    },
    {
      "cell_type": "code",
      "source": [
        "# Q16\n",
        "Q16_dt = {'Under 1 year':1, '1-2 years':2, '2-3 years':3, '3-4 years':4, '4-5 years':5, '5-10 years':6, \n",
        "          '10-20 years':7, 'I do not use machine learning methods':0}\n",
        "df2['Q16'] = df2['Q16'].map(Q16_dt)\n",
        "print(\"Q16: \", df2[\"Q16\"].unique())"
      ],
      "metadata": {
        "colab": {
          "base_uri": "https://localhost:8080/"
        },
        "id": "RUYcmwWpm9P3",
        "outputId": "86114d8e-2108-408f-dd9b-c075ccfeaa83"
      },
      "execution_count": 17,
      "outputs": [
        {
          "output_type": "stream",
          "name": "stdout",
          "text": [
            "Q16:  [2 5 6 3 1 4 7 0]\n"
          ]
        }
      ]
    },
    {
      "cell_type": "code",
      "source": [
        "# Q11\n",
        "Q11_dt = {'< 1 years':0, '1-3 years':1, '3-5 years':2,\n",
        "          '5-10 years':4, '10-20 years':8,'20+ years':16}\n",
        "\n",
        "df2['Q11'] = df2['Q11'].map(Q11_dt)\n",
        "print(\"Q11: \", df2[\"Q11\"].unique())"
      ],
      "metadata": {
        "colab": {
          "base_uri": "https://localhost:8080/"
        },
        "id": "-QQBxPGSwfgn",
        "outputId": "f29e64e8-344a-44c2-f5e3-1ee1f6bf4f60"
      },
      "execution_count": 18,
      "outputs": [
        {
          "output_type": "stream",
          "name": "stdout",
          "text": [
            "Q11:  [ 8 16  4  2  0  1]\n"
          ]
        }
      ]
    },
    {
      "cell_type": "code",
      "source": [
        "# Q30\n",
        "Q30_dt = {'$0 ($USD)':0, '$1-$99':1, '$100-$999':10, '$1000-$9,999':100, '$10,000-$99,999':1000, \n",
        "          '$100,000 or more ($USD)':1000}\n",
        "df2['Q30'] = df2['Q30'].map(Q30_dt)\n",
        "print(\"Q30: \", df2['Q30'].unique())"
      ],
      "metadata": {
        "colab": {
          "base_uri": "https://localhost:8080/"
        },
        "id": "7qDdNB6cxoon",
        "outputId": "9b679303-0e09-495d-9839-7b1e644b72f6"
      },
      "execution_count": 19,
      "outputs": [
        {
          "output_type": "stream",
          "name": "stdout",
          "text": [
            "Q30:  [ 100    0   10 1000    1]\n"
          ]
        }
      ]
    },
    {
      "cell_type": "code",
      "source": [
        "# drop Q29\n",
        "df2.drop([\"Q29\"], axis=1, inplace=True)"
      ],
      "metadata": {
        "id": "e3nmrRnHMB39"
      },
      "execution_count": 20,
      "outputs": []
    },
    {
      "cell_type": "code",
      "source": [
        "len(list(df2.columns))"
      ],
      "metadata": {
        "colab": {
          "base_uri": "https://localhost:8080/"
        },
        "id": "lAt3dnS0LXnm",
        "outputId": "9cb5d991-48e0-445b-c79d-b665cbede8ed"
      },
      "execution_count": 25,
      "outputs": [
        {
          "output_type": "execute_result",
          "data": {
            "text/plain": [
              "327"
            ]
          },
          "metadata": {},
          "execution_count": 25
        }
      ]
    },
    {
      "cell_type": "markdown",
      "source": [
        "After performing data cleaning and convert categorical data into numerical data, we have 326 features for predicting the Q29, which is the current yearly compensation of the participants."
      ],
      "metadata": {
        "id": "yZx-1HlcLizi"
      }
    },
    {
      "cell_type": "markdown",
      "source": [
        "### 3.1 Exploratory data analysis\n",
        "\n",
        "We are going to visualize the order of feature importance and pick the variables that are most related to Q29_encoded from over 300 features for fitting logistic regression model."
      ],
      "metadata": {
        "id": "S4BneTMsMPI8"
      }
    },
    {
      "cell_type": "code",
      "source": [
        "# show the top 10 features that have the highest correlation\n",
        "corr = df2.corr()\n",
        "corr_Q29 = corr['Q29_Encoded']\n",
        "print(corr_Q29.nlargest(11))"
      ],
      "metadata": {
        "colab": {
          "base_uri": "https://localhost:8080/"
        },
        "id": "80hgj8sCOX0g",
        "outputId": "3fc4e682-f85e-44a8-c62e-69d8be81fc2e"
      },
      "execution_count": null,
      "outputs": [
        {
          "output_type": "stream",
          "name": "stdout",
          "text": [
            "Q29_Encoded                                                                 1.000000\n",
            "Q4_United States of America                                                 0.593737\n",
            "Q11                                                                         0.379169\n",
            "Q16                                                                         0.375654\n",
            "Q2                                                                          0.316067\n",
            "Q27                                                                         0.302316\n",
            "Q30                                                                         0.298588\n",
            "Q28_3_Build prototypes to explore applying machine learning to new areas    0.262150\n",
            "Q26                                                                         0.256761\n",
            "Q34_3_ Amazon Simple Storage Service (S3)                                   0.247301\n",
            "Q31_1_ Amazon Web Services (AWS)                                            0.228119\n",
            "Name: Q29_Encoded, dtype: float64\n"
          ]
        }
      ]
    },
    {
      "cell_type": "code",
      "source": [
        "# visualize the corr plot\n",
        "fig, ax = plt.subplots(1,1,figsize=(15,15))\n",
        "\n",
        "top10 = list(corr_Q29.nlargest(11).index)\n",
        "corr = corr.loc[top10, top10]\n",
        "\n",
        "sns.heatmap(\n",
        "    corr, \n",
        "    vmin=-1, vmax=1, center=0,\n",
        "    cmap=sns.diverging_palette(20, 220, n=200),\n",
        "    ax = ax,\n",
        "    square=True\n",
        ")"
      ],
      "metadata": {
        "colab": {
          "base_uri": "https://localhost:8080/",
          "height": 1000
        },
        "id": "RlJ8EoySPsVo",
        "outputId": "07d37862-a538-494c-a57a-5476d5cdeec5"
      },
      "execution_count": null,
      "outputs": [
        {
          "output_type": "execute_result",
          "data": {
            "text/plain": [
              "<matplotlib.axes._subplots.AxesSubplot at 0x7fa745cb4390>"
            ]
          },
          "metadata": {},
          "execution_count": 77
        },
        {
          "output_type": "display_data",
          "data": {
            "text/plain": [
              "<Figure size 1080x1080 with 2 Axes>"
            ],
            "image/png": "[encoded data removed]"
          },
          "metadata": {
            "needs_background": "light"
          }
        }
      ]
    },
    {
      "cell_type": "markdown",
      "source": [
        "Based on the graph above, we can see that the most correlated feature is whether the participant lives in the US.\n",
        "\n",
        "The most related 5 questions are:\n",
        "1. In which country do you currently reside? - United States of America  \n",
        "2. For how many years have you been writing code and/or programming?\n",
        "3. For how many years have you used machine learning methods?\n",
        "4. What is your age (# years)?\n",
        "5. Does your current employer incorporate machine learning methods into their business?\n"
      ],
      "metadata": {
        "id": "lBfB2SmMQ14P"
      }
    },
    {
      "cell_type": "markdown",
      "source": [
        "### 3.2 Feature selection"
      ],
      "metadata": {
        "id": "9QddeNxu_9We"
      }
    },
    {
      "cell_type": "markdown",
      "source": [
        "The features are selected from training data using Lasso regression. The idea of the regularized regression is to optimize the cost function and reduce the absolute values of the coefficients. It will automatically select the useful features and discard the useless or redundant features. Discarding a feature will make its coefficient equal to 0. In our case, we are selecting the features with coefficient larger than 0.1 for reducing the number of features selected. We also tune α hyperparameter in order to make Lasso regression work properly."
      ],
      "metadata": {
        "id": "FowQEaqUQm-P"
      }
    },
    {
      "cell_type": "code",
      "source": [
        "from sklearn.model_selection import train_test_split\n",
        "# Separating the data into training and tests set (7:3)\n",
        "\n",
        "X_train, X_test, y_train, y_test = train_test_split(\n",
        "    df2.drop(labels=['Q29_Encoded'], axis=1),\n",
        "    df2['Q29_Encoded'],\n",
        "    test_size=0.3,\n",
        "    random_state=0)\n",
        "X_train.shape, X_test.shape, y_train.shape, y_test.shape"
      ],
      "metadata": {
        "colab": {
          "base_uri": "https://localhost:8080/"
        },
        "id": "LlZaKEJY_8zH",
        "outputId": "4ae6838c-9050-4e89-f09d-6c3e1d9c0583"
      },
      "execution_count": 21,
      "outputs": [
        {
          "output_type": "execute_result",
          "data": {
            "text/plain": [
              "((5186, 326), (2223, 326), (5186,), (2223,))"
            ]
          },
          "metadata": {},
          "execution_count": 21
        }
      ]
    },
    {
      "cell_type": "code",
      "source": [
        "import numpy as np\n",
        "from sklearn.preprocessing import StandardScaler\n",
        "from sklearn.pipeline import Pipeline\n",
        "from sklearn.model_selection import train_test_split, GridSearchCV\n",
        "from sklearn.linear_model import Lasso"
      ],
      "metadata": {
        "id": "fYyHt7L-LCZw"
      },
      "execution_count": 22,
      "outputs": []
    },
    {
      "cell_type": "code",
      "source": [
        "pipeline = Pipeline([\n",
        "                     ('scaler',StandardScaler()),\n",
        "                     ('model',Lasso())\n",
        "])"
      ],
      "metadata": {
        "id": "P9CFbDXTLGGn"
      },
      "execution_count": 23,
      "outputs": []
    },
    {
      "cell_type": "markdown",
      "source": [
        "In this step, we optimize the α hyperparameter. The tested values are from 0.1 to 10 with 0.1 step. We apply GridSearchCV for this task."
      ],
      "metadata": {
        "id": "usRuBC5WSt6f"
      }
    },
    {
      "cell_type": "code",
      "source": [
        "search = GridSearchCV(pipeline,\n",
        "                      {'model__alpha':np.arange(0.1,10,0.1)},\n",
        "                      cv = 5, scoring=\"neg_mean_squared_error\",verbose=3\n",
        "                      )"
      ],
      "metadata": {
        "id": "nt574d6_LL-p"
      },
      "execution_count": 24,
      "outputs": []
    },
    {
      "cell_type": "code",
      "source": [
        "search.fit(X_train,y_train)"
      ],
      "metadata": {
        "colab": {
          "base_uri": "https://localhost:8080/"
        },
        "id": "NlloYsU1LRjT",
        "outputId": "a5862689-73d2-4497-90c5-3d84f233c52f"
      },
      "execution_count": 25,
      "outputs": [
        {
          "output_type": "stream",
          "name": "stdout",
          "text": [
            "Fitting 5 folds for each of 99 candidates, totalling 495 fits\n",
            "[CV 1/5] END .................model__alpha=0.1;, score=-7.533 total time=   0.3s\n",
            "[CV 2/5] END .................model__alpha=0.1;, score=-8.606 total time=   0.3s\n",
            "[CV 3/5] END .................model__alpha=0.1;, score=-8.118 total time=   0.3s\n",
            "[CV 4/5] END .................model__alpha=0.1;, score=-8.855 total time=   0.3s\n",
            "[CV 5/5] END .................model__alpha=0.1;, score=-8.752 total time=   0.4s\n",
            "[CV 1/5] END .................model__alpha=0.2;, score=-7.735 total time=   0.3s\n",
            "[CV 2/5] END .................model__alpha=0.2;, score=-8.915 total time=   0.3s\n",
            "[CV 3/5] END .................model__alpha=0.2;, score=-8.494 total time=   0.3s\n",
            "[CV 4/5] END .................model__alpha=0.2;, score=-9.267 total time=   0.3s\n",
            "[CV 5/5] END .................model__alpha=0.2;, score=-9.009 total time=   0.3s\n",
            "[CV 1/5] END .model__alpha=0.30000000000000004;, score=-7.949 total time=   0.3s\n",
            "[CV 2/5] END .model__alpha=0.30000000000000004;, score=-9.273 total time=   0.3s\n",
            "[CV 3/5] END .model__alpha=0.30000000000000004;, score=-8.905 total time=   0.3s\n",
            "[CV 4/5] END .model__alpha=0.30000000000000004;, score=-9.645 total time=   0.3s\n",
            "[CV 5/5] END .model__alpha=0.30000000000000004;, score=-9.302 total time=   0.3s\n",
            "[CV 1/5] END .................model__alpha=0.4;, score=-8.226 total time=   0.3s\n",
            "[CV 2/5] END .................model__alpha=0.4;, score=-9.688 total time=   0.3s\n",
            "[CV 3/5] END .................model__alpha=0.4;, score=-9.376 total time=   0.3s\n",
            "[CV 4/5] END ................model__alpha=0.4;, score=-10.066 total time=   0.3s\n",
            "[CV 5/5] END .................model__alpha=0.4;, score=-9.666 total time=   0.3s\n",
            "[CV 1/5] END .................model__alpha=0.5;, score=-8.601 total time=   0.3s\n",
            "[CV 2/5] END ................model__alpha=0.5;, score=-10.180 total time=   0.3s\n",
            "[CV 3/5] END .................model__alpha=0.5;, score=-9.913 total time=   0.3s\n",
            "[CV 4/5] END ................model__alpha=0.5;, score=-10.507 total time=   0.3s\n",
            "[CV 5/5] END ................model__alpha=0.5;, score=-10.135 total time=   0.3s\n",
            "[CV 1/5] END .................model__alpha=0.6;, score=-9.005 total time=   0.3s\n",
            "[CV 2/5] END ................model__alpha=0.6;, score=-10.690 total time=   0.3s\n",
            "[CV 3/5] END ................model__alpha=0.6;, score=-10.470 total time=   0.3s\n",
            "[CV 4/5] END ................model__alpha=0.6;, score=-10.940 total time=   0.3s\n",
            "[CV 5/5] END ................model__alpha=0.6;, score=-10.656 total time=   0.3s\n",
            "[CV 1/5] END ..model__alpha=0.7000000000000001;, score=-9.402 total time=   0.3s\n",
            "[CV 2/5] END .model__alpha=0.7000000000000001;, score=-11.172 total time=   0.3s\n",
            "[CV 3/5] END .model__alpha=0.7000000000000001;, score=-10.994 total time=   0.3s\n",
            "[CV 4/5] END .model__alpha=0.7000000000000001;, score=-11.360 total time=   0.3s\n",
            "[CV 5/5] END .model__alpha=0.7000000000000001;, score=-11.131 total time=   0.3s\n",
            "[CV 1/5] END .................model__alpha=0.8;, score=-9.834 total time=   0.3s\n",
            "[CV 2/5] END ................model__alpha=0.8;, score=-11.680 total time=   0.3s\n",
            "[CV 3/5] END ................model__alpha=0.8;, score=-11.520 total time=   0.3s\n",
            "[CV 4/5] END ................model__alpha=0.8;, score=-11.801 total time=   0.3s\n",
            "[CV 5/5] END ................model__alpha=0.8;, score=-11.619 total time=   0.3s\n",
            "[CV 1/5] END ................model__alpha=0.9;, score=-10.309 total time=   0.3s\n",
            "[CV 2/5] END ................model__alpha=0.9;, score=-12.230 total time=   0.3s\n",
            "[CV 3/5] END ................model__alpha=0.9;, score=-12.075 total time=   0.3s\n",
            "[CV 4/5] END ................model__alpha=0.9;, score=-12.260 total time=   0.3s\n",
            "[CV 5/5] END ................model__alpha=0.9;, score=-12.106 total time=   0.3s\n",
            "[CV 1/5] END ................model__alpha=1.0;, score=-10.758 total time=   0.3s\n",
            "[CV 2/5] END ................model__alpha=1.0;, score=-12.771 total time=   0.3s\n",
            "[CV 3/5] END ................model__alpha=1.0;, score=-12.634 total time=   0.3s\n",
            "[CV 4/5] END ................model__alpha=1.0;, score=-12.741 total time=   0.3s\n",
            "[CV 5/5] END ................model__alpha=1.0;, score=-12.531 total time=   0.3s\n",
            "[CV 1/5] END ................model__alpha=1.1;, score=-11.221 total time=   0.3s\n",
            "[CV 2/5] END ................model__alpha=1.1;, score=-13.223 total time=   0.3s\n",
            "[CV 3/5] END ................model__alpha=1.1;, score=-13.130 total time=   0.3s\n",
            "[CV 4/5] END ................model__alpha=1.1;, score=-13.230 total time=   0.3s\n",
            "[CV 5/5] END ................model__alpha=1.1;, score=-12.929 total time=   0.3s\n",
            "[CV 1/5] END .model__alpha=1.2000000000000002;, score=-11.704 total time=   0.3s\n",
            "[CV 2/5] END .model__alpha=1.2000000000000002;, score=-13.714 total time=   0.3s\n",
            "[CV 3/5] END .model__alpha=1.2000000000000002;, score=-13.651 total time=   0.3s\n",
            "[CV 4/5] END .model__alpha=1.2000000000000002;, score=-13.691 total time=   0.3s\n",
            "[CV 5/5] END .model__alpha=1.2000000000000002;, score=-13.372 total time=   0.3s\n",
            "[CV 1/5] END .model__alpha=1.3000000000000003;, score=-12.206 total time=   0.3s\n",
            "[CV 2/5] END .model__alpha=1.3000000000000003;, score=-14.246 total time=   0.3s\n",
            "[CV 3/5] END .model__alpha=1.3000000000000003;, score=-14.213 total time=   0.3s\n",
            "[CV 4/5] END .model__alpha=1.3000000000000003;, score=-14.192 total time=   0.3s\n",
            "[CV 5/5] END .model__alpha=1.3000000000000003;, score=-13.858 total time=   0.3s\n",
            "[CV 1/5] END .model__alpha=1.4000000000000001;, score=-12.749 total time=   0.3s\n",
            "[CV 2/5] END .model__alpha=1.4000000000000001;, score=-14.801 total time=   0.3s\n",
            "[CV 3/5] END .model__alpha=1.4000000000000001;, score=-14.766 total time=   0.3s\n",
            "[CV 4/5] END .model__alpha=1.4000000000000001;, score=-14.733 total time=   0.3s\n",
            "[CV 5/5] END .model__alpha=1.4000000000000001;, score=-14.389 total time=   0.3s\n",
            "[CV 1/5] END .model__alpha=1.5000000000000002;, score=-13.322 total time=   0.3s\n",
            "[CV 2/5] END .model__alpha=1.5000000000000002;, score=-15.325 total time=   0.3s\n",
            "[CV 3/5] END .model__alpha=1.5000000000000002;, score=-15.317 total time=   0.3s\n",
            "[CV 4/5] END .model__alpha=1.5000000000000002;, score=-15.263 total time=   0.3s\n",
            "[CV 5/5] END .model__alpha=1.5000000000000002;, score=-14.887 total time=   0.3s\n",
            "[CV 1/5] END ................model__alpha=1.6;, score=-13.843 total time=   0.3s\n",
            "[CV 2/5] END ................model__alpha=1.6;, score=-15.746 total time=   0.3s\n",
            "[CV 3/5] END ................model__alpha=1.6;, score=-15.654 total time=   0.3s\n",
            "[CV 4/5] END ................model__alpha=1.6;, score=-15.778 total time=   0.3s\n",
            "[CV 5/5] END ................model__alpha=1.6;, score=-15.348 total time=   0.3s\n",
            "[CV 1/5] END .model__alpha=1.7000000000000002;, score=-14.193 total time=   0.3s\n",
            "[CV 2/5] END .model__alpha=1.7000000000000002;, score=-16.072 total time=   0.3s\n",
            "[CV 3/5] END .model__alpha=1.7000000000000002;, score=-15.976 total time=   0.3s\n",
            "[CV 4/5] END .model__alpha=1.7000000000000002;, score=-16.119 total time=   0.3s\n",
            "[CV 5/5] END .model__alpha=1.7000000000000002;, score=-15.660 total time=   0.3s\n",
            "[CV 1/5] END .model__alpha=1.8000000000000003;, score=-14.561 total time=   0.3s\n",
            "[CV 2/5] END .model__alpha=1.8000000000000003;, score=-16.420 total time=   0.3s\n",
            "[CV 3/5] END .model__alpha=1.8000000000000003;, score=-16.317 total time=   0.3s\n",
            "[CV 4/5] END .model__alpha=1.8000000000000003;, score=-16.480 total time=   0.3s\n",
            "[CV 5/5] END .model__alpha=1.8000000000000003;, score=-15.992 total time=   0.3s\n",
            "[CV 1/5] END .model__alpha=1.9000000000000001;, score=-14.947 total time=   0.3s\n",
            "[CV 2/5] END .model__alpha=1.9000000000000001;, score=-16.789 total time=   0.3s\n",
            "[CV 3/5] END .model__alpha=1.9000000000000001;, score=-16.679 total time=   0.3s\n",
            "[CV 4/5] END .model__alpha=1.9000000000000001;, score=-16.860 total time=   0.3s\n",
            "[CV 5/5] END .model__alpha=1.9000000000000001;, score=-16.345 total time=   0.3s\n",
            "[CV 1/5] END ................model__alpha=2.0;, score=-15.351 total time=   0.3s\n",
            "[CV 2/5] END ................model__alpha=2.0;, score=-17.179 total time=   0.3s\n",
            "[CV 3/5] END ................model__alpha=2.0;, score=-17.060 total time=   0.3s\n",
            "[CV 4/5] END ................model__alpha=2.0;, score=-17.261 total time=   0.3s\n",
            "[CV 5/5] END ................model__alpha=2.0;, score=-16.719 total time=   0.3s\n",
            "[CV 1/5] END ................model__alpha=2.1;, score=-15.773 total time=   0.3s\n",
            "[CV 2/5] END ................model__alpha=2.1;, score=-17.591 total time=   0.3s\n",
            "[CV 3/5] END ................model__alpha=2.1;, score=-17.462 total time=   0.3s\n",
            "[CV 4/5] END ................model__alpha=2.1;, score=-17.682 total time=   0.3s\n",
            "[CV 5/5] END ................model__alpha=2.1;, score=-17.114 total time=   0.3s\n",
            "[CV 1/5] END ................model__alpha=2.2;, score=-16.213 total time=   0.3s\n",
            "[CV 2/5] END ................model__alpha=2.2;, score=-18.024 total time=   0.3s\n",
            "[CV 3/5] END ................model__alpha=2.2;, score=-17.883 total time=   0.3s\n",
            "[CV 4/5] END ................model__alpha=2.2;, score=-18.122 total time=   0.3s\n",
            "[CV 5/5] END ................model__alpha=2.2;, score=-17.529 total time=   0.3s\n",
            "[CV 1/5] END .model__alpha=2.3000000000000003;, score=-16.671 total time=   0.3s\n",
            "[CV 2/5] END .model__alpha=2.3000000000000003;, score=-18.479 total time=   0.3s\n",
            "[CV 3/5] END .model__alpha=2.3000000000000003;, score=-18.324 total time=   0.3s\n",
            "[CV 4/5] END .model__alpha=2.3000000000000003;, score=-18.582 total time=   0.3s\n",
            "[CV 5/5] END .model__alpha=2.3000000000000003;, score=-17.966 total time=   0.3s\n",
            "[CV 1/5] END .model__alpha=2.4000000000000004;, score=-17.147 total time=   0.3s\n",
            "[CV 2/5] END .model__alpha=2.4000000000000004;, score=-18.955 total time=   0.3s\n",
            "[CV 3/5] END .model__alpha=2.4000000000000004;, score=-18.785 total time=   0.3s\n",
            "[CV 4/5] END .model__alpha=2.4000000000000004;, score=-19.062 total time=   0.3s\n",
            "[CV 5/5] END .model__alpha=2.4000000000000004;, score=-18.424 total time=   0.3s\n",
            "[CV 1/5] END .model__alpha=2.5000000000000004;, score=-17.641 total time=   0.3s\n",
            "[CV 2/5] END .model__alpha=2.5000000000000004;, score=-19.452 total time=   0.3s\n",
            "[CV 3/5] END .model__alpha=2.5000000000000004;, score=-19.265 total time=   0.3s\n",
            "[CV 4/5] END .model__alpha=2.5000000000000004;, score=-19.563 total time=   0.3s\n",
            "[CV 5/5] END .model__alpha=2.5000000000000004;, score=-18.902 total time=   0.3s\n",
            "[CV 1/5] END ................model__alpha=2.6;, score=-18.154 total time=   0.3s\n",
            "[CV 2/5] END ................model__alpha=2.6;, score=-19.971 total time=   0.3s\n",
            "[CV 3/5] END ................model__alpha=2.6;, score=-19.766 total time=   0.3s\n",
            "[CV 4/5] END ................model__alpha=2.6;, score=-20.082 total time=   0.3s\n",
            "[CV 5/5] END ................model__alpha=2.6;, score=-19.401 total time=   0.3s\n",
            "[CV 1/5] END ................model__alpha=2.7;, score=-18.161 total time=   0.3s\n",
            "[CV 2/5] END ................model__alpha=2.7;, score=-20.166 total time=   0.7s\n",
            "[CV 3/5] END ................model__alpha=2.7;, score=-19.950 total time=   0.3s\n",
            "[CV 4/5] END ................model__alpha=2.7;, score=-20.170 total time=   0.7s\n",
            "[CV 5/5] END ................model__alpha=2.7;, score=-19.655 total time=   0.3s\n",
            "[CV 1/5] END .model__alpha=2.8000000000000003;, score=-18.161 total time=   0.7s\n",
            "[CV 2/5] END .model__alpha=2.8000000000000003;, score=-20.166 total time=   0.3s\n",
            "[CV 3/5] END .model__alpha=2.8000000000000003;, score=-19.950 total time=   0.3s\n",
            "[CV 4/5] END .model__alpha=2.8000000000000003;, score=-20.170 total time=   0.3s\n",
            "[CV 5/5] END .model__alpha=2.8000000000000003;, score=-19.655 total time=   0.3s\n",
            "[CV 1/5] END .model__alpha=2.9000000000000004;, score=-18.161 total time=   0.3s\n",
            "[CV 2/5] END .model__alpha=2.9000000000000004;, score=-20.166 total time=   0.3s\n",
            "[CV 3/5] END .model__alpha=2.9000000000000004;, score=-19.950 total time=   0.3s\n",
            "[CV 4/5] END .model__alpha=2.9000000000000004;, score=-20.170 total time=   0.3s\n",
            "[CV 5/5] END .model__alpha=2.9000000000000004;, score=-19.655 total time=   0.3s\n",
            "[CV 1/5] END .model__alpha=3.0000000000000004;, score=-18.161 total time=   0.3s\n",
            "[CV 2/5] END .model__alpha=3.0000000000000004;, score=-20.166 total time=   0.3s\n",
            "[CV 3/5] END .model__alpha=3.0000000000000004;, score=-19.950 total time=   0.3s\n",
            "[CV 4/5] END .model__alpha=3.0000000000000004;, score=-20.170 total time=   0.3s\n",
            "[CV 5/5] END .model__alpha=3.0000000000000004;, score=-19.655 total time=   0.3s\n",
            "[CV 1/5] END ................model__alpha=3.1;, score=-18.161 total time=   0.3s\n",
            "[CV 2/5] END ................model__alpha=3.1;, score=-20.166 total time=   0.3s\n",
            "[CV 3/5] END ................model__alpha=3.1;, score=-19.950 total time=   0.3s\n",
            "[CV 4/5] END ................model__alpha=3.1;, score=-20.170 total time=   0.3s\n",
            "[CV 5/5] END ................model__alpha=3.1;, score=-19.655 total time=   0.3s\n",
            "[CV 1/5] END ................model__alpha=3.2;, score=-18.161 total time=   0.3s\n",
            "[CV 2/5] END ................model__alpha=3.2;, score=-20.166 total time=   0.3s\n",
            "[CV 3/5] END ................model__alpha=3.2;, score=-19.950 total time=   0.3s\n",
            "[CV 4/5] END ................model__alpha=3.2;, score=-20.170 total time=   0.3s\n",
            "[CV 5/5] END ................model__alpha=3.2;, score=-19.655 total time=   0.3s\n",
            "[CV 1/5] END .model__alpha=3.3000000000000003;, score=-18.161 total time=   0.3s\n",
            "[CV 2/5] END .model__alpha=3.3000000000000003;, score=-20.166 total time=   0.3s\n",
            "[CV 3/5] END .model__alpha=3.3000000000000003;, score=-19.950 total time=   0.3s\n",
            "[CV 4/5] END .model__alpha=3.3000000000000003;, score=-20.170 total time=   0.3s\n",
            "[CV 5/5] END .model__alpha=3.3000000000000003;, score=-19.655 total time=   0.3s\n",
            "[CV 1/5] END .model__alpha=3.4000000000000004;, score=-18.161 total time=   0.3s\n",
            "[CV 2/5] END .model__alpha=3.4000000000000004;, score=-20.166 total time=   0.3s\n",
            "[CV 3/5] END .model__alpha=3.4000000000000004;, score=-19.950 total time=   0.3s\n",
            "[CV 4/5] END .model__alpha=3.4000000000000004;, score=-20.170 total time=   0.3s\n",
            "[CV 5/5] END .model__alpha=3.4000000000000004;, score=-19.655 total time=   0.3s\n",
            "[CV 1/5] END .model__alpha=3.5000000000000004;, score=-18.161 total time=   0.3s\n",
            "[CV 2/5] END .model__alpha=3.5000000000000004;, score=-20.166 total time=   0.3s\n",
            "[CV 3/5] END .model__alpha=3.5000000000000004;, score=-19.950 total time=   0.3s\n",
            "[CV 4/5] END .model__alpha=3.5000000000000004;, score=-20.170 total time=   0.3s\n",
            "[CV 5/5] END .model__alpha=3.5000000000000004;, score=-19.655 total time=   0.3s\n",
            "[CV 1/5] END ................model__alpha=3.6;, score=-18.161 total time=   0.3s\n",
            "[CV 2/5] END ................model__alpha=3.6;, score=-20.166 total time=   0.3s\n",
            "[CV 3/5] END ................model__alpha=3.6;, score=-19.950 total time=   0.3s\n",
            "[CV 4/5] END ................model__alpha=3.6;, score=-20.170 total time=   0.3s\n",
            "[CV 5/5] END ................model__alpha=3.6;, score=-19.655 total time=   0.3s\n",
            "[CV 1/5] END ................model__alpha=3.7;, score=-18.161 total time=   0.3s\n",
            "[CV 2/5] END ................model__alpha=3.7;, score=-20.166 total time=   0.3s\n",
            "[CV 3/5] END ................model__alpha=3.7;, score=-19.950 total time=   0.3s\n",
            "[CV 4/5] END ................model__alpha=3.7;, score=-20.170 total time=   0.3s\n",
            "[CV 5/5] END ................model__alpha=3.7;, score=-19.655 total time=   0.3s\n",
            "[CV 1/5] END .model__alpha=3.8000000000000003;, score=-18.161 total time=   0.3s\n",
            "[CV 2/5] END .model__alpha=3.8000000000000003;, score=-20.166 total time=   0.3s\n",
            "[CV 3/5] END .model__alpha=3.8000000000000003;, score=-19.950 total time=   0.3s\n",
            "[CV 4/5] END .model__alpha=3.8000000000000003;, score=-20.170 total time=   0.3s\n",
            "[CV 5/5] END .model__alpha=3.8000000000000003;, score=-19.655 total time=   0.3s\n",
            "[CV 1/5] END .model__alpha=3.9000000000000004;, score=-18.161 total time=   0.3s\n",
            "[CV 2/5] END .model__alpha=3.9000000000000004;, score=-20.166 total time=   0.3s\n",
            "[CV 3/5] END .model__alpha=3.9000000000000004;, score=-19.950 total time=   0.3s\n",
            "[CV 4/5] END .model__alpha=3.9000000000000004;, score=-20.170 total time=   0.3s\n",
            "[CV 5/5] END .model__alpha=3.9000000000000004;, score=-19.655 total time=   0.3s\n",
            "[CV 1/5] END ................model__alpha=4.0;, score=-18.161 total time=   0.3s\n",
            "[CV 2/5] END ................model__alpha=4.0;, score=-20.166 total time=   0.3s\n",
            "[CV 3/5] END ................model__alpha=4.0;, score=-19.950 total time=   0.3s\n",
            "[CV 4/5] END ................model__alpha=4.0;, score=-20.170 total time=   0.3s\n",
            "[CV 5/5] END ................model__alpha=4.0;, score=-19.655 total time=   0.3s\n",
            "[CV 1/5] END ................model__alpha=4.1;, score=-18.161 total time=   0.3s\n",
            "[CV 2/5] END ................model__alpha=4.1;, score=-20.166 total time=   0.3s\n",
            "[CV 3/5] END ................model__alpha=4.1;, score=-19.950 total time=   0.3s\n",
            "[CV 4/5] END ................model__alpha=4.1;, score=-20.170 total time=   0.3s\n",
            "[CV 5/5] END ................model__alpha=4.1;, score=-19.655 total time=   0.3s\n",
            "[CV 1/5] END ................model__alpha=4.2;, score=-18.161 total time=   0.3s\n",
            "[CV 2/5] END ................model__alpha=4.2;, score=-20.166 total time=   0.3s\n",
            "[CV 3/5] END ................model__alpha=4.2;, score=-19.950 total time=   0.3s\n",
            "[CV 4/5] END ................model__alpha=4.2;, score=-20.170 total time=   0.3s\n",
            "[CV 5/5] END ................model__alpha=4.2;, score=-19.655 total time=   0.3s\n",
            "[CV 1/5] END ................model__alpha=4.3;, score=-18.161 total time=   0.3s\n",
            "[CV 2/5] END ................model__alpha=4.3;, score=-20.166 total time=   0.3s\n",
            "[CV 3/5] END ................model__alpha=4.3;, score=-19.950 total time=   0.3s\n",
            "[CV 4/5] END ................model__alpha=4.3;, score=-20.170 total time=   0.3s\n",
            "[CV 5/5] END ................model__alpha=4.3;, score=-19.655 total time=   0.3s\n",
            "[CV 1/5] END .model__alpha=4.3999999999999995;, score=-18.161 total time=   0.3s\n",
            "[CV 2/5] END .model__alpha=4.3999999999999995;, score=-20.166 total time=   0.3s\n",
            "[CV 3/5] END .model__alpha=4.3999999999999995;, score=-19.950 total time=   0.3s\n",
            "[CV 4/5] END .model__alpha=4.3999999999999995;, score=-20.170 total time=   0.3s\n",
            "[CV 5/5] END .model__alpha=4.3999999999999995;, score=-19.655 total time=   0.3s\n",
            "[CV 1/5] END ................model__alpha=4.5;, score=-18.161 total time=   0.3s\n",
            "[CV 2/5] END ................model__alpha=4.5;, score=-20.166 total time=   0.3s\n",
            "[CV 3/5] END ................model__alpha=4.5;, score=-19.950 total time=   0.3s\n",
            "[CV 4/5] END ................model__alpha=4.5;, score=-20.170 total time=   0.3s\n",
            "[CV 5/5] END ................model__alpha=4.5;, score=-19.655 total time=   0.3s\n",
            "[CV 1/5] END ................model__alpha=4.6;, score=-18.161 total time=   0.3s\n",
            "[CV 2/5] END ................model__alpha=4.6;, score=-20.166 total time=   0.3s\n",
            "[CV 3/5] END ................model__alpha=4.6;, score=-19.950 total time=   0.3s\n",
            "[CV 4/5] END ................model__alpha=4.6;, score=-20.170 total time=   0.3s\n",
            "[CV 5/5] END ................model__alpha=4.6;, score=-19.655 total time=   0.3s\n",
            "[CV 1/5] END ................model__alpha=4.7;, score=-18.161 total time=   0.3s\n",
            "[CV 2/5] END ................model__alpha=4.7;, score=-20.166 total time=   0.3s\n",
            "[CV 3/5] END ................model__alpha=4.7;, score=-19.950 total time=   0.3s\n",
            "[CV 4/5] END ................model__alpha=4.7;, score=-20.170 total time=   0.3s\n",
            "[CV 5/5] END ................model__alpha=4.7;, score=-19.655 total time=   0.3s\n",
            "[CV 1/5] END ................model__alpha=4.8;, score=-18.161 total time=   0.3s\n",
            "[CV 2/5] END ................model__alpha=4.8;, score=-20.166 total time=   0.3s\n",
            "[CV 3/5] END ................model__alpha=4.8;, score=-19.950 total time=   0.3s\n",
            "[CV 4/5] END ................model__alpha=4.8;, score=-20.170 total time=   0.3s\n",
            "[CV 5/5] END ................model__alpha=4.8;, score=-19.655 total time=   0.3s\n",
            "[CV 1/5] END ................model__alpha=4.9;, score=-18.161 total time=   0.3s\n",
            "[CV 2/5] END ................model__alpha=4.9;, score=-20.166 total time=   0.3s\n",
            "[CV 3/5] END ................model__alpha=4.9;, score=-19.950 total time=   0.3s\n",
            "[CV 4/5] END ................model__alpha=4.9;, score=-20.170 total time=   0.3s\n",
            "[CV 5/5] END ................model__alpha=4.9;, score=-19.655 total time=   0.3s\n",
            "[CV 1/5] END ................model__alpha=5.0;, score=-18.161 total time=   0.3s\n",
            "[CV 2/5] END ................model__alpha=5.0;, score=-20.166 total time=   0.3s\n",
            "[CV 3/5] END ................model__alpha=5.0;, score=-19.950 total time=   0.3s\n",
            "[CV 4/5] END ................model__alpha=5.0;, score=-20.170 total time=   0.3s\n",
            "[CV 5/5] END ................model__alpha=5.0;, score=-19.655 total time=   0.3s\n",
            "[CV 1/5] END ................model__alpha=5.1;, score=-18.161 total time=   0.3s\n",
            "[CV 2/5] END ................model__alpha=5.1;, score=-20.166 total time=   0.3s\n",
            "[CV 3/5] END ................model__alpha=5.1;, score=-19.950 total time=   0.3s\n",
            "[CV 4/5] END ................model__alpha=5.1;, score=-20.170 total time=   0.3s\n",
            "[CV 5/5] END ................model__alpha=5.1;, score=-19.655 total time=   0.3s\n",
            "[CV 1/5] END ................model__alpha=5.2;, score=-18.161 total time=   0.3s\n",
            "[CV 2/5] END ................model__alpha=5.2;, score=-20.166 total time=   0.3s\n",
            "[CV 3/5] END ................model__alpha=5.2;, score=-19.950 total time=   0.3s\n",
            "[CV 4/5] END ................model__alpha=5.2;, score=-20.170 total time=   0.3s\n",
            "[CV 5/5] END ................model__alpha=5.2;, score=-19.655 total time=   0.3s\n",
            "[CV 1/5] END ................model__alpha=5.3;, score=-18.161 total time=   0.3s\n",
            "[CV 2/5] END ................model__alpha=5.3;, score=-20.166 total time=   0.3s\n",
            "[CV 3/5] END ................model__alpha=5.3;, score=-19.950 total time=   0.3s\n",
            "[CV 4/5] END ................model__alpha=5.3;, score=-20.170 total time=   0.3s\n",
            "[CV 5/5] END ................model__alpha=5.3;, score=-19.655 total time=   0.3s\n",
            "[CV 1/5] END ................model__alpha=5.4;, score=-18.161 total time=   0.3s\n",
            "[CV 2/5] END ................model__alpha=5.4;, score=-20.166 total time=   0.3s\n",
            "[CV 3/5] END ................model__alpha=5.4;, score=-19.950 total time=   0.3s\n",
            "[CV 4/5] END ................model__alpha=5.4;, score=-20.170 total time=   0.3s\n",
            "[CV 5/5] END ................model__alpha=5.4;, score=-19.655 total time=   0.3s\n",
            "[CV 1/5] END ................model__alpha=5.5;, score=-18.161 total time=   0.3s\n",
            "[CV 2/5] END ................model__alpha=5.5;, score=-20.166 total time=   0.3s\n",
            "[CV 3/5] END ................model__alpha=5.5;, score=-19.950 total time=   0.3s\n",
            "[CV 4/5] END ................model__alpha=5.5;, score=-20.170 total time=   0.3s\n",
            "[CV 5/5] END ................model__alpha=5.5;, score=-19.655 total time=   0.3s\n",
            "[CV 1/5] END ................model__alpha=5.6;, score=-18.161 total time=   0.3s\n",
            "[CV 2/5] END ................model__alpha=5.6;, score=-20.166 total time=   0.3s\n",
            "[CV 3/5] END ................model__alpha=5.6;, score=-19.950 total time=   0.3s\n",
            "[CV 4/5] END ................model__alpha=5.6;, score=-20.170 total time=   0.3s\n",
            "[CV 5/5] END ................model__alpha=5.6;, score=-19.655 total time=   0.3s\n",
            "[CV 1/5] END ................model__alpha=5.7;, score=-18.161 total time=   0.3s\n",
            "[CV 2/5] END ................model__alpha=5.7;, score=-20.166 total time=   0.3s\n",
            "[CV 3/5] END ................model__alpha=5.7;, score=-19.950 total time=   0.3s\n",
            "[CV 4/5] END ................model__alpha=5.7;, score=-20.170 total time=   0.3s\n",
            "[CV 5/5] END ................model__alpha=5.7;, score=-19.655 total time=   0.3s\n",
            "[CV 1/5] END ................model__alpha=5.8;, score=-18.161 total time=   0.3s\n",
            "[CV 2/5] END ................model__alpha=5.8;, score=-20.166 total time=   0.3s\n",
            "[CV 3/5] END ................model__alpha=5.8;, score=-19.950 total time=   0.3s\n",
            "[CV 4/5] END ................model__alpha=5.8;, score=-20.170 total time=   0.3s\n",
            "[CV 5/5] END ................model__alpha=5.8;, score=-19.655 total time=   0.3s\n",
            "[CV 1/5] END ................model__alpha=5.9;, score=-18.161 total time=   0.3s\n",
            "[CV 2/5] END ................model__alpha=5.9;, score=-20.166 total time=   0.3s\n",
            "[CV 3/5] END ................model__alpha=5.9;, score=-19.950 total time=   0.3s\n",
            "[CV 4/5] END ................model__alpha=5.9;, score=-20.170 total time=   0.3s\n",
            "[CV 5/5] END ................model__alpha=5.9;, score=-19.655 total time=   0.3s\n",
            "[CV 1/5] END ................model__alpha=6.0;, score=-18.161 total time=   0.3s\n",
            "[CV 2/5] END ................model__alpha=6.0;, score=-20.166 total time=   0.3s\n",
            "[CV 3/5] END ................model__alpha=6.0;, score=-19.950 total time=   0.3s\n",
            "[CV 4/5] END ................model__alpha=6.0;, score=-20.170 total time=   0.3s\n",
            "[CV 5/5] END ................model__alpha=6.0;, score=-19.655 total time=   0.3s\n",
            "[CV 1/5] END ................model__alpha=6.1;, score=-18.161 total time=   0.3s\n",
            "[CV 2/5] END ................model__alpha=6.1;, score=-20.166 total time=   0.3s\n",
            "[CV 3/5] END ................model__alpha=6.1;, score=-19.950 total time=   0.3s\n",
            "[CV 4/5] END ................model__alpha=6.1;, score=-20.170 total time=   0.3s\n",
            "[CV 5/5] END ................model__alpha=6.1;, score=-19.655 total time=   0.3s\n",
            "[CV 1/5] END ................model__alpha=6.2;, score=-18.161 total time=   0.3s\n",
            "[CV 2/5] END ................model__alpha=6.2;, score=-20.166 total time=   0.3s\n",
            "[CV 3/5] END ................model__alpha=6.2;, score=-19.950 total time=   0.3s\n",
            "[CV 4/5] END ................model__alpha=6.2;, score=-20.170 total time=   0.3s\n",
            "[CV 5/5] END ................model__alpha=6.2;, score=-19.655 total time=   0.3s\n",
            "[CV 1/5] END ................model__alpha=6.3;, score=-18.161 total time=   0.3s\n",
            "[CV 2/5] END ................model__alpha=6.3;, score=-20.166 total time=   0.3s\n",
            "[CV 3/5] END ................model__alpha=6.3;, score=-19.950 total time=   0.3s\n",
            "[CV 4/5] END ................model__alpha=6.3;, score=-20.170 total time=   0.3s\n",
            "[CV 5/5] END ................model__alpha=6.3;, score=-19.655 total time=   0.3s\n",
            "[CV 1/5] END ................model__alpha=6.4;, score=-18.161 total time=   0.3s\n",
            "[CV 2/5] END ................model__alpha=6.4;, score=-20.166 total time=   0.3s\n",
            "[CV 3/5] END ................model__alpha=6.4;, score=-19.950 total time=   0.3s\n",
            "[CV 4/5] END ................model__alpha=6.4;, score=-20.170 total time=   0.3s\n",
            "[CV 5/5] END ................model__alpha=6.4;, score=-19.655 total time=   0.3s\n",
            "[CV 1/5] END ................model__alpha=6.5;, score=-18.161 total time=   0.3s\n",
            "[CV 2/5] END ................model__alpha=6.5;, score=-20.166 total time=   0.3s\n",
            "[CV 3/5] END ................model__alpha=6.5;, score=-19.950 total time=   0.5s\n",
            "[CV 4/5] END ................model__alpha=6.5;, score=-20.170 total time=   0.6s\n",
            "[CV 5/5] END ................model__alpha=6.5;, score=-19.655 total time=   0.6s\n",
            "[CV 1/5] END ................model__alpha=6.6;, score=-18.161 total time=   0.8s\n",
            "[CV 2/5] END ................model__alpha=6.6;, score=-20.166 total time=   0.9s\n",
            "[CV 3/5] END ................model__alpha=6.6;, score=-19.950 total time=   0.5s\n",
            "[CV 4/5] END ................model__alpha=6.6;, score=-20.170 total time=   0.3s\n",
            "[CV 5/5] END ................model__alpha=6.6;, score=-19.655 total time=   0.3s\n",
            "[CV 1/5] END ................model__alpha=6.7;, score=-18.161 total time=   0.3s\n",
            "[CV 2/5] END ................model__alpha=6.7;, score=-20.166 total time=   0.3s\n",
            "[CV 3/5] END ................model__alpha=6.7;, score=-19.950 total time=   0.3s\n",
            "[CV 4/5] END ................model__alpha=6.7;, score=-20.170 total time=   0.3s\n",
            "[CV 5/5] END ................model__alpha=6.7;, score=-19.655 total time=   0.3s\n",
            "[CV 1/5] END ................model__alpha=6.8;, score=-18.161 total time=   0.3s\n",
            "[CV 2/5] END ................model__alpha=6.8;, score=-20.166 total time=   0.3s\n",
            "[CV 3/5] END ................model__alpha=6.8;, score=-19.950 total time=   0.3s\n",
            "[CV 4/5] END ................model__alpha=6.8;, score=-20.170 total time=   0.3s\n",
            "[CV 5/5] END ................model__alpha=6.8;, score=-19.655 total time=   0.3s\n",
            "[CV 1/5] END ................model__alpha=6.9;, score=-18.161 total time=   0.3s\n",
            "[CV 2/5] END ................model__alpha=6.9;, score=-20.166 total time=   0.3s\n",
            "[CV 3/5] END ................model__alpha=6.9;, score=-19.950 total time=   0.3s\n",
            "[CV 4/5] END ................model__alpha=6.9;, score=-20.170 total time=   0.3s\n",
            "[CV 5/5] END ................model__alpha=6.9;, score=-19.655 total time=   0.3s\n",
            "[CV 1/5] END ................model__alpha=7.0;, score=-18.161 total time=   0.3s\n",
            "[CV 2/5] END ................model__alpha=7.0;, score=-20.166 total time=   0.3s\n",
            "[CV 3/5] END ................model__alpha=7.0;, score=-19.950 total time=   0.3s\n",
            "[CV 4/5] END ................model__alpha=7.0;, score=-20.170 total time=   0.3s\n",
            "[CV 5/5] END ................model__alpha=7.0;, score=-19.655 total time=   0.3s\n",
            "[CV 1/5] END ................model__alpha=7.1;, score=-18.161 total time=   0.3s\n",
            "[CV 2/5] END ................model__alpha=7.1;, score=-20.166 total time=   0.3s\n",
            "[CV 3/5] END ................model__alpha=7.1;, score=-19.950 total time=   0.3s\n",
            "[CV 4/5] END ................model__alpha=7.1;, score=-20.170 total time=   0.3s\n",
            "[CV 5/5] END ................model__alpha=7.1;, score=-19.655 total time=   0.3s\n",
            "[CV 1/5] END ................model__alpha=7.2;, score=-18.161 total time=   0.3s\n",
            "[CV 2/5] END ................model__alpha=7.2;, score=-20.166 total time=   0.3s\n",
            "[CV 3/5] END ................model__alpha=7.2;, score=-19.950 total time=   0.3s\n",
            "[CV 4/5] END ................model__alpha=7.2;, score=-20.170 total time=   0.3s\n",
            "[CV 5/5] END ................model__alpha=7.2;, score=-19.655 total time=   0.3s\n",
            "[CV 1/5] END ................model__alpha=7.3;, score=-18.161 total time=   0.3s\n",
            "[CV 2/5] END ................model__alpha=7.3;, score=-20.166 total time=   0.3s\n",
            "[CV 3/5] END ................model__alpha=7.3;, score=-19.950 total time=   0.3s\n",
            "[CV 4/5] END ................model__alpha=7.3;, score=-20.170 total time=   0.3s\n",
            "[CV 5/5] END ................model__alpha=7.3;, score=-19.655 total time=   0.3s\n",
            "[CV 1/5] END ................model__alpha=7.4;, score=-18.161 total time=   0.3s\n",
            "[CV 2/5] END ................model__alpha=7.4;, score=-20.166 total time=   0.3s\n",
            "[CV 3/5] END ................model__alpha=7.4;, score=-19.950 total time=   0.3s\n",
            "[CV 4/5] END ................model__alpha=7.4;, score=-20.170 total time=   0.3s\n",
            "[CV 5/5] END ................model__alpha=7.4;, score=-19.655 total time=   0.3s\n",
            "[CV 1/5] END ................model__alpha=7.5;, score=-18.161 total time=   0.3s\n",
            "[CV 2/5] END ................model__alpha=7.5;, score=-20.166 total time=   0.3s\n",
            "[CV 3/5] END ................model__alpha=7.5;, score=-19.950 total time=   0.3s\n",
            "[CV 4/5] END ................model__alpha=7.5;, score=-20.170 total time=   0.3s\n",
            "[CV 5/5] END ................model__alpha=7.5;, score=-19.655 total time=   0.3s\n",
            "[CV 1/5] END ................model__alpha=7.6;, score=-18.161 total time=   0.3s\n",
            "[CV 2/5] END ................model__alpha=7.6;, score=-20.166 total time=   0.3s\n",
            "[CV 3/5] END ................model__alpha=7.6;, score=-19.950 total time=   0.3s\n",
            "[CV 4/5] END ................model__alpha=7.6;, score=-20.170 total time=   0.3s\n",
            "[CV 5/5] END ................model__alpha=7.6;, score=-19.655 total time=   0.3s\n",
            "[CV 1/5] END ................model__alpha=7.7;, score=-18.161 total time=   0.3s\n",
            "[CV 2/5] END ................model__alpha=7.7;, score=-20.166 total time=   0.3s\n",
            "[CV 3/5] END ................model__alpha=7.7;, score=-19.950 total time=   0.3s\n",
            "[CV 4/5] END ................model__alpha=7.7;, score=-20.170 total time=   0.3s\n",
            "[CV 5/5] END ................model__alpha=7.7;, score=-19.655 total time=   0.3s\n",
            "[CV 1/5] END ................model__alpha=7.8;, score=-18.161 total time=   0.3s\n",
            "[CV 2/5] END ................model__alpha=7.8;, score=-20.166 total time=   0.3s\n",
            "[CV 3/5] END ................model__alpha=7.8;, score=-19.950 total time=   0.3s\n",
            "[CV 4/5] END ................model__alpha=7.8;, score=-20.170 total time=   0.3s\n",
            "[CV 5/5] END ................model__alpha=7.8;, score=-19.655 total time=   0.3s\n",
            "[CV 1/5] END ................model__alpha=7.9;, score=-18.161 total time=   0.3s\n",
            "[CV 2/5] END ................model__alpha=7.9;, score=-20.166 total time=   0.3s\n",
            "[CV 3/5] END ................model__alpha=7.9;, score=-19.950 total time=   0.3s\n",
            "[CV 4/5] END ................model__alpha=7.9;, score=-20.170 total time=   0.3s\n",
            "[CV 5/5] END ................model__alpha=7.9;, score=-19.655 total time=   0.3s\n",
            "[CV 1/5] END ................model__alpha=8.0;, score=-18.161 total time=   0.3s\n",
            "[CV 2/5] END ................model__alpha=8.0;, score=-20.166 total time=   0.3s\n",
            "[CV 3/5] END ................model__alpha=8.0;, score=-19.950 total time=   0.3s\n",
            "[CV 4/5] END ................model__alpha=8.0;, score=-20.170 total time=   0.3s\n",
            "[CV 5/5] END ................model__alpha=8.0;, score=-19.655 total time=   0.3s\n",
            "[CV 1/5] END ................model__alpha=8.1;, score=-18.161 total time=   0.3s\n",
            "[CV 2/5] END ................model__alpha=8.1;, score=-20.166 total time=   0.3s\n",
            "[CV 3/5] END ................model__alpha=8.1;, score=-19.950 total time=   0.3s\n",
            "[CV 4/5] END ................model__alpha=8.1;, score=-20.170 total time=   0.3s\n",
            "[CV 5/5] END ................model__alpha=8.1;, score=-19.655 total time=   0.3s\n",
            "[CV 1/5] END ................model__alpha=8.2;, score=-18.161 total time=   0.3s\n",
            "[CV 2/5] END ................model__alpha=8.2;, score=-20.166 total time=   0.3s\n",
            "[CV 3/5] END ................model__alpha=8.2;, score=-19.950 total time=   0.3s\n",
            "[CV 4/5] END ................model__alpha=8.2;, score=-20.170 total time=   0.3s\n",
            "[CV 5/5] END ................model__alpha=8.2;, score=-19.655 total time=   0.3s\n",
            "[CV 1/5] END ................model__alpha=8.3;, score=-18.161 total time=   0.3s\n",
            "[CV 2/5] END ................model__alpha=8.3;, score=-20.166 total time=   0.3s\n",
            "[CV 3/5] END ................model__alpha=8.3;, score=-19.950 total time=   0.3s\n",
            "[CV 4/5] END ................model__alpha=8.3;, score=-20.170 total time=   0.3s\n",
            "[CV 5/5] END ................model__alpha=8.3;, score=-19.655 total time=   0.3s\n",
            "[CV 1/5] END ................model__alpha=8.4;, score=-18.161 total time=   0.3s\n",
            "[CV 2/5] END ................model__alpha=8.4;, score=-20.166 total time=   0.3s\n",
            "[CV 3/5] END ................model__alpha=8.4;, score=-19.950 total time=   0.3s\n",
            "[CV 4/5] END ................model__alpha=8.4;, score=-20.170 total time=   0.3s\n",
            "[CV 5/5] END ................model__alpha=8.4;, score=-19.655 total time=   0.3s\n",
            "[CV 1/5] END ................model__alpha=8.5;, score=-18.161 total time=   0.3s\n",
            "[CV 2/5] END ................model__alpha=8.5;, score=-20.166 total time=   0.3s\n",
            "[CV 3/5] END ................model__alpha=8.5;, score=-19.950 total time=   0.3s\n",
            "[CV 4/5] END ................model__alpha=8.5;, score=-20.170 total time=   0.3s\n",
            "[CV 5/5] END ................model__alpha=8.5;, score=-19.655 total time=   0.3s\n",
            "[CV 1/5] END ................model__alpha=8.6;, score=-18.161 total time=   0.4s\n",
            "[CV 2/5] END ................model__alpha=8.6;, score=-20.166 total time=   0.4s\n",
            "[CV 3/5] END ................model__alpha=8.6;, score=-19.950 total time=   0.5s\n",
            "[CV 4/5] END ................model__alpha=8.6;, score=-20.170 total time=   0.6s\n",
            "[CV 5/5] END ................model__alpha=8.6;, score=-19.655 total time=   0.6s\n",
            "[CV 1/5] END ................model__alpha=8.7;, score=-18.161 total time=   0.5s\n",
            "[CV 2/5] END ................model__alpha=8.7;, score=-20.166 total time=   0.4s\n",
            "[CV 3/5] END ................model__alpha=8.7;, score=-19.950 total time=   0.3s\n",
            "[CV 4/5] END ................model__alpha=8.7;, score=-20.170 total time=   0.3s\n",
            "[CV 5/5] END ................model__alpha=8.7;, score=-19.655 total time=   0.3s\n",
            "[CV 1/5] END ................model__alpha=8.8;, score=-18.161 total time=   0.3s\n",
            "[CV 2/5] END ................model__alpha=8.8;, score=-20.166 total time=   0.3s\n",
            "[CV 3/5] END ................model__alpha=8.8;, score=-19.950 total time=   0.3s\n",
            "[CV 4/5] END ................model__alpha=8.8;, score=-20.170 total time=   0.3s\n",
            "[CV 5/5] END ................model__alpha=8.8;, score=-19.655 total time=   0.3s\n",
            "[CV 1/5] END ................model__alpha=8.9;, score=-18.161 total time=   0.3s\n",
            "[CV 2/5] END ................model__alpha=8.9;, score=-20.166 total time=   0.3s\n",
            "[CV 3/5] END ................model__alpha=8.9;, score=-19.950 total time=   0.3s\n",
            "[CV 4/5] END ................model__alpha=8.9;, score=-20.170 total time=   0.3s\n",
            "[CV 5/5] END ................model__alpha=8.9;, score=-19.655 total time=   0.3s\n",
            "[CV 1/5] END ................model__alpha=9.0;, score=-18.161 total time=   0.3s\n",
            "[CV 2/5] END ................model__alpha=9.0;, score=-20.166 total time=   0.3s\n",
            "[CV 3/5] END ................model__alpha=9.0;, score=-19.950 total time=   0.3s\n",
            "[CV 4/5] END ................model__alpha=9.0;, score=-20.170 total time=   0.3s\n",
            "[CV 5/5] END ................model__alpha=9.0;, score=-19.655 total time=   0.3s\n",
            "[CV 1/5] END ................model__alpha=9.1;, score=-18.161 total time=   0.3s\n",
            "[CV 2/5] END ................model__alpha=9.1;, score=-20.166 total time=   0.3s\n",
            "[CV 3/5] END ................model__alpha=9.1;, score=-19.950 total time=   0.3s\n",
            "[CV 4/5] END ................model__alpha=9.1;, score=-20.170 total time=   0.3s\n",
            "[CV 5/5] END ................model__alpha=9.1;, score=-19.655 total time=   0.3s\n",
            "[CV 1/5] END ................model__alpha=9.2;, score=-18.161 total time=   0.3s\n",
            "[CV 2/5] END ................model__alpha=9.2;, score=-20.166 total time=   0.3s\n",
            "[CV 3/5] END ................model__alpha=9.2;, score=-19.950 total time=   0.3s\n",
            "[CV 4/5] END ................model__alpha=9.2;, score=-20.170 total time=   0.3s\n",
            "[CV 5/5] END ................model__alpha=9.2;, score=-19.655 total time=   0.3s\n",
            "[CV 1/5] END ................model__alpha=9.3;, score=-18.161 total time=   0.3s\n",
            "[CV 2/5] END ................model__alpha=9.3;, score=-20.166 total time=   0.3s\n",
            "[CV 3/5] END ................model__alpha=9.3;, score=-19.950 total time=   0.3s\n",
            "[CV 4/5] END ................model__alpha=9.3;, score=-20.170 total time=   0.3s\n",
            "[CV 5/5] END ................model__alpha=9.3;, score=-19.655 total time=   0.3s\n",
            "[CV 1/5] END ................model__alpha=9.4;, score=-18.161 total time=   0.3s\n",
            "[CV 2/5] END ................model__alpha=9.4;, score=-20.166 total time=   0.3s\n",
            "[CV 3/5] END ................model__alpha=9.4;, score=-19.950 total time=   0.3s\n",
            "[CV 4/5] END ................model__alpha=9.4;, score=-20.170 total time=   0.3s\n",
            "[CV 5/5] END ................model__alpha=9.4;, score=-19.655 total time=   0.3s\n",
            "[CV 1/5] END ................model__alpha=9.5;, score=-18.161 total time=   0.3s\n",
            "[CV 2/5] END ................model__alpha=9.5;, score=-20.166 total time=   0.3s\n",
            "[CV 3/5] END ................model__alpha=9.5;, score=-19.950 total time=   0.3s\n",
            "[CV 4/5] END ................model__alpha=9.5;, score=-20.170 total time=   0.3s\n",
            "[CV 5/5] END ................model__alpha=9.5;, score=-19.655 total time=   0.3s\n",
            "[CV 1/5] END ................model__alpha=9.6;, score=-18.161 total time=   0.3s\n",
            "[CV 2/5] END ................model__alpha=9.6;, score=-20.166 total time=   0.3s\n",
            "[CV 3/5] END ................model__alpha=9.6;, score=-19.950 total time=   0.3s\n",
            "[CV 4/5] END ................model__alpha=9.6;, score=-20.170 total time=   0.3s\n",
            "[CV 5/5] END ................model__alpha=9.6;, score=-19.655 total time=   0.3s\n",
            "[CV 1/5] END ..model__alpha=9.700000000000001;, score=-18.161 total time=   0.3s\n",
            "[CV 2/5] END ..model__alpha=9.700000000000001;, score=-20.166 total time=   0.3s\n",
            "[CV 3/5] END ..model__alpha=9.700000000000001;, score=-19.950 total time=   0.3s\n",
            "[CV 4/5] END ..model__alpha=9.700000000000001;, score=-20.170 total time=   0.3s\n",
            "[CV 5/5] END ..model__alpha=9.700000000000001;, score=-19.655 total time=   0.3s\n",
            "[CV 1/5] END ................model__alpha=9.8;, score=-18.161 total time=   0.3s\n",
            "[CV 2/5] END ................model__alpha=9.8;, score=-20.166 total time=   0.3s\n",
            "[CV 3/5] END ................model__alpha=9.8;, score=-19.950 total time=   0.3s\n",
            "[CV 4/5] END ................model__alpha=9.8;, score=-20.170 total time=   0.3s\n",
            "[CV 5/5] END ................model__alpha=9.8;, score=-19.655 total time=   0.4s\n",
            "[CV 1/5] END ................model__alpha=9.9;, score=-18.161 total time=   0.3s\n",
            "[CV 2/5] END ................model__alpha=9.9;, score=-20.166 total time=   0.3s\n",
            "[CV 3/5] END ................model__alpha=9.9;, score=-19.950 total time=   0.3s\n",
            "[CV 4/5] END ................model__alpha=9.9;, score=-20.170 total time=   0.3s\n",
            "[CV 5/5] END ................model__alpha=9.9;, score=-19.655 total time=   0.3s\n"
          ]
        },
        {
          "output_type": "execute_result",
          "data": {
            "text/plain": [
              "GridSearchCV(cv=5,\n",
              "             estimator=Pipeline(steps=[('scaler', StandardScaler()),\n",
              "                                       ('model', Lasso())]),\n",
              "             param_grid={'model__alpha': array([0.1, 0.2, 0.3, 0.4, 0.5, 0.6, 0.7, 0.8, 0.9, 1. , 1.1, 1.2, 1.3,\n",
              "       1.4, 1.5, 1.6, 1.7, 1.8, 1.9, 2. , 2.1, 2.2, 2.3, 2.4, 2.5, 2.6,\n",
              "       2.7, 2.8, 2.9, 3. , 3.1, 3.2, 3.3, 3.4, 3.5, 3.6, 3.7, 3.8, 3.9,\n",
              "       4. , 4.1, 4.2, 4.3, 4.4, 4.5, 4.6, 4.7, 4.8, 4.9, 5. , 5.1, 5.2,\n",
              "       5.3, 5.4, 5.5, 5.6, 5.7, 5.8, 5.9, 6. , 6.1, 6.2, 6.3, 6.4, 6.5,\n",
              "       6.6, 6.7, 6.8, 6.9, 7. , 7.1, 7.2, 7.3, 7.4, 7.5, 7.6, 7.7, 7.8,\n",
              "       7.9, 8. , 8.1, 8.2, 8.3, 8.4, 8.5, 8.6, 8.7, 8.8, 8.9, 9. , 9.1,\n",
              "       9.2, 9.3, 9.4, 9.5, 9.6, 9.7, 9.8, 9.9])},\n",
              "             scoring='neg_mean_squared_error', verbose=3)"
            ]
          },
          "metadata": {},
          "execution_count": 25
        }
      ]
    },
    {
      "cell_type": "markdown",
      "source": [
        "We find the best value for α 0.1."
      ],
      "metadata": {
        "id": "3VXN0QovTkXN"
      }
    },
    {
      "cell_type": "code",
      "source": [
        "search.best_params_\n",
        "# {'model__alpha': 0.1}"
      ],
      "metadata": {
        "colab": {
          "base_uri": "https://localhost:8080/"
        },
        "id": "r4V8yOEBMAAb",
        "outputId": "92ff6d5d-6b06-4db4-e54c-df15ac94a8bc"
      },
      "execution_count": 26,
      "outputs": [
        {
          "output_type": "execute_result",
          "data": {
            "text/plain": [
              "{'model__alpha': 0.1}"
            ]
          },
          "metadata": {},
          "execution_count": 26
        }
      ]
    },
    {
      "cell_type": "markdown",
      "source": [
        "We get the values of the coefficients of Lasso regression. And calculate the importance of the features, which are the absolute values of the importance."
      ],
      "metadata": {
        "id": "dYKhxKwETrSj"
      }
    },
    {
      "cell_type": "code",
      "source": [
        "coefficients = search.best_estimator_.named_steps['model'].coef_"
      ],
      "metadata": {
        "id": "bJYcLGTWMIc7"
      },
      "execution_count": 27,
      "outputs": []
    },
    {
      "cell_type": "code",
      "source": [
        "importance = np.abs(coefficients)"
      ],
      "metadata": {
        "id": "yq1UZm0jMK3f"
      },
      "execution_count": 28,
      "outputs": []
    },
    {
      "cell_type": "code",
      "source": [
        "list_coeff = importance.tolist()"
      ],
      "metadata": {
        "id": "IerlrS-OMha9"
      },
      "execution_count": 29,
      "outputs": []
    },
    {
      "cell_type": "code",
      "source": [
        "data = {'feature': X_train.columns, 'importance': list_coeff}"
      ],
      "metadata": {
        "id": "LQt2hL8UNI6K"
      },
      "execution_count": 30,
      "outputs": []
    },
    {
      "cell_type": "code",
      "source": [
        "lasso_df = pd.DataFrame(data=data)"
      ],
      "metadata": {
        "id": "CLSnDdglMP69"
      },
      "execution_count": 31,
      "outputs": []
    },
    {
      "cell_type": "code",
      "source": [
        "feature_selected = lasso_df.loc[lasso_df['importance'] > 0.1]"
      ],
      "metadata": {
        "id": "LunKVjF9Nx6G"
      },
      "execution_count": 32,
      "outputs": []
    },
    {
      "cell_type": "markdown",
      "source": [
        "The selected features are displayed below. The features roughly match the results of the correlation. Which the participants currently live in the U.S. is the most important selected feature."
      ],
      "metadata": {
        "id": "QToza_40UNAV"
      }
    },
    {
      "cell_type": "code",
      "source": [
        "feature_selected.sort_values(by=['importance'], ascending=False)"
      ],
      "metadata": {
        "colab": {
          "base_uri": "https://localhost:8080/",
          "height": 520
        },
        "id": "Ul8GGaEeOIgl",
        "outputId": "3e6914a4-a448-4520-ef2e-3467b51b2d37"
      },
      "execution_count": 33,
      "outputs": [
        {
          "output_type": "execute_result",
          "data": {
            "text/plain": [
              "                                               feature  importance\n",
              "296                        Q4_United States of America    1.917392\n",
              "4                                                  Q16    0.475760\n",
              "292                                           Q4_India    0.461307\n",
              "3                                                  Q11    0.452736\n",
              "8                                                  Q30    0.402439\n",
              "1                                                   Q2    0.355494\n",
              "305  Q23_Manager (Program, Project, Operations, Exe...    0.316032\n",
              "7                                                  Q27    0.311769\n",
              "311                            Q24_Academics/Education    0.305348\n",
              "6                                                  Q26    0.298401\n",
              "5                                                  Q25    0.205203\n",
              "152                  Q31_1_ Amazon Web Services (AWS)     0.172359\n",
              "141                            Q21_8_ Kaggle datasets     0.134619\n",
              "146  Q28_3_Build prototypes to explore applying mac...    0.127739\n",
              "171        Q34_3_ Amazon Simple Storage Service (S3)      0.106091"
            ],
            "text/html": [
              "\n",
              "  <div id=\"df-9d42985d-d150-4586-93e3-fd8fad922029\">\n",
              "    <div class=\"colab-df-container\">\n",
              "      <div>\n",
              "<style scoped>\n",
              "    .dataframe tbody tr th:only-of-type {\n",
              "        vertical-align: middle;\n",
              "    }\n",
              "\n",
              "    .dataframe tbody tr th {\n",
              "        vertical-align: top;\n",
              "    }\n",
              "\n",
              "    .dataframe thead th {\n",
              "        text-align: right;\n",
              "    }\n",
              "</style>\n",
              "<table border=\"1\" class=\"dataframe\">\n",
              "  <thead>\n",
              "    <tr style=\"text-align: right;\">\n",
              "      <th></th>\n",
              "      <th>feature</th>\n",
              "      <th>importance</th>\n",
              "    </tr>\n",
              "  </thead>\n",
              "  <tbody>\n",
              "    <tr>\n",
              "      <th>296</th>\n",
              "      <td>Q4_United States of America</td>\n",
              "      <td>1.917392</td>\n",
              "    </tr>\n",
              "    <tr>\n",
              "      <th>4</th>\n",
              "      <td>Q16</td>\n",
              "      <td>0.475760</td>\n",
              "    </tr>\n",
              "    <tr>\n",
              "      <th>292</th>\n",
              "      <td>Q4_India</td>\n",
              "      <td>0.461307</td>\n",
              "    </tr>\n",
              "    <tr>\n",
              "      <th>3</th>\n",
              "      <td>Q11</td>\n",
              "      <td>0.452736</td>\n",
              "    </tr>\n",
              "    <tr>\n",
              "      <th>8</th>\n",
              "      <td>Q30</td>\n",
              "      <td>0.402439</td>\n",
              "    </tr>\n",
              "    <tr>\n",
              "      <th>1</th>\n",
              "      <td>Q2</td>\n",
              "      <td>0.355494</td>\n",
              "    </tr>\n",
              "    <tr>\n",
              "      <th>305</th>\n",
              "      <td>Q23_Manager (Program, Project, Operations, Exe...</td>\n",
              "      <td>0.316032</td>\n",
              "    </tr>\n",
              "    <tr>\n",
              "      <th>7</th>\n",
              "      <td>Q27</td>\n",
              "      <td>0.311769</td>\n",
              "    </tr>\n",
              "    <tr>\n",
              "      <th>311</th>\n",
              "      <td>Q24_Academics/Education</td>\n",
              "      <td>0.305348</td>\n",
              "    </tr>\n",
              "    <tr>\n",
              "      <th>6</th>\n",
              "      <td>Q26</td>\n",
              "      <td>0.298401</td>\n",
              "    </tr>\n",
              "    <tr>\n",
              "      <th>5</th>\n",
              "      <td>Q25</td>\n",
              "      <td>0.205203</td>\n",
              "    </tr>\n",
              "    <tr>\n",
              "      <th>152</th>\n",
              "      <td>Q31_1_ Amazon Web Services (AWS)</td>\n",
              "      <td>0.172359</td>\n",
              "    </tr>\n",
              "    <tr>\n",
              "      <th>141</th>\n",
              "      <td>Q21_8_ Kaggle datasets</td>\n",
              "      <td>0.134619</td>\n",
              "    </tr>\n",
              "    <tr>\n",
              "      <th>146</th>\n",
              "      <td>Q28_3_Build prototypes to explore applying mac...</td>\n",
              "      <td>0.127739</td>\n",
              "    </tr>\n",
              "    <tr>\n",
              "      <th>171</th>\n",
              "      <td>Q34_3_ Amazon Simple Storage Service (S3)</td>\n",
              "      <td>0.106091</td>\n",
              "    </tr>\n",
              "  </tbody>\n",
              "</table>\n",
              "</div>\n",
              "      <button class=\"colab-df-convert\" onclick=\"convertToInteractive('df-9d42985d-d150-4586-93e3-fd8fad922029')\"\n",
              "              title=\"Convert this dataframe to an interactive table.\"\n",
              "              style=\"display:none;\">\n",
              "        \n",
              "  <svg xmlns=\"http://www.w3.org/2000/svg\" height=\"24px\"viewBox=\"0 0 24 24\"\n",
              "       width=\"24px\">\n",
              "    <path d=\"M0 0h24v24H0V0z\" fill=\"none\"/>\n",
              "    <path d=\"M18.56 5.44l.94 2.06.94-2.06 2.06-.94-2.06-.94-.94-2.06-.94 2.06-2.06.94zm-11 1L8.5 8.5l.94-2.06 2.06-.94-2.06-.94L8.5 2.5l-.94 2.06-2.06.94zm10 10l.94 2.06.94-2.06 2.06-.94-2.06-.94-.94-2.06-.94 2.06-2.06.94z\"/><path d=\"M17.41 7.96l-1.37-1.37c-.4-.4-.92-.59-1.43-.59-.52 0-1.04.2-1.43.59L10.3 9.45l-7.72 7.72c-.78.78-.78 2.05 0 2.83L4 21.41c.39.39.9.59 1.41.59.51 0 1.02-.2 1.41-.59l7.78-7.78 2.81-2.81c.8-.78.8-2.07 0-2.86zM5.41 20L4 18.59l7.72-7.72 1.47 1.35L5.41 20z\"/>\n",
              "  </svg>\n",
              "      </button>\n",
              "      \n",
              "  <style>\n",
              "    .colab-df-container {\n",
              "      display:flex;\n",
              "      flex-wrap:wrap;\n",
              "      gap: 12px;\n",
              "    }\n",
              "\n",
              "    .colab-df-convert {\n",
              "      background-color: #E8F0FE;\n",
              "      border: none;\n",
              "      border-radius: 50%;\n",
              "      cursor: pointer;\n",
              "      display: none;\n",
              "      fill: #1967D2;\n",
              "      height: 32px;\n",
              "      padding: 0 0 0 0;\n",
              "      width: 32px;\n",
              "    }\n",
              "\n",
              "    .colab-df-convert:hover {\n",
              "      background-color: #E2EBFA;\n",
              "      box-shadow: 0px 1px 2px rgba(60, 64, 67, 0.3), 0px 1px 3px 1px rgba(60, 64, 67, 0.15);\n",
              "      fill: #174EA6;\n",
              "    }\n",
              "\n",
              "    [theme=dark] .colab-df-convert {\n",
              "      background-color: #3B4455;\n",
              "      fill: #D2E3FC;\n",
              "    }\n",
              "\n",
              "    [theme=dark] .colab-df-convert:hover {\n",
              "      background-color: #434B5C;\n",
              "      box-shadow: 0px 1px 3px 1px rgba(0, 0, 0, 0.15);\n",
              "      filter: drop-shadow(0px 1px 2px rgba(0, 0, 0, 0.3));\n",
              "      fill: #FFFFFF;\n",
              "    }\n",
              "  </style>\n",
              "\n",
              "      <script>\n",
              "        const buttonEl =\n",
              "          document.querySelector('#df-9d42985d-d150-4586-93e3-fd8fad922029 button.colab-df-convert');\n",
              "        buttonEl.style.display =\n",
              "          google.colab.kernel.accessAllowed ? 'block' : 'none';\n",
              "\n",
              "        async function convertToInteractive(key) {\n",
              "          const element = document.querySelector('#df-9d42985d-d150-4586-93e3-fd8fad922029');\n",
              "          const dataTable =\n",
              "            await google.colab.kernel.invokeFunction('convertToInteractive',\n",
              "                                                     [key], {});\n",
              "          if (!dataTable) return;\n",
              "\n",
              "          const docLinkHtml = 'Like what you see? Visit the ' +\n",
              "            '<a target=\"_blank\" href=https://colab.research.google.com/notebooks/data_table.ipynb>data table notebook</a>'\n",
              "            + ' to learn more about interactive tables.';\n",
              "          element.innerHTML = '';\n",
              "          dataTable['output_type'] = 'display_data';\n",
              "          await google.colab.output.renderOutput(dataTable, element);\n",
              "          const docLink = document.createElement('div');\n",
              "          docLink.innerHTML = docLinkHtml;\n",
              "          element.appendChild(docLink);\n",
              "        }\n",
              "      </script>\n",
              "    </div>\n",
              "  </div>\n",
              "  "
            ]
          },
          "metadata": {},
          "execution_count": 33
        }
      ]
    },
    {
      "cell_type": "markdown",
      "source": [
        "### 3.Model implementation"
      ],
      "metadata": {
        "id": "AfzqVM8RhXx0"
      }
    },
    {
      "cell_type": "code",
      "source": [
        "from sklearn.preprocessing import MinMaxScaler\n",
        "from sklearn.linear_model import LogisticRegression\n",
        "from sklearn.metrics import accuracy_score, make_scorer\n",
        "from sklearn.model_selection import KFold\n",
        "from sklearn.model_selection import cross_val_score"
      ],
      "metadata": {
        "id": "RCzq4hFZhgWX"
      },
      "execution_count": 33,
      "outputs": []
    },
    {
      "cell_type": "markdown",
      "source": [
        "We define the function below to fit one logistic regression among the 14 regressions, which return the probability of the person from the Q29_encoded >= num. We scale the X training set and test set using MinMaxScaler separately, which subtracts the minimum value in the feature and then divides by the range. It helps to keep the data into range of 0 and 1 and preserve the shape of the original distribution. We didn't choose StandardScaler since it is useful for features follow a Normal distribution. "
      ],
      "metadata": {
        "id": "2aHgJJ2eU_To"
      }
    },
    {
      "cell_type": "code",
      "source": [
        "\n",
        "def one_log_regression(X_train, y_train, X_test, y_test, num, solver, C):\n",
        "\n",
        "  X_train_y = X_train.copy()\n",
        "\n",
        "  X_train_y['Q29_Encoded'] = y_train\n",
        "\n",
        "  df34 = X_train_y.copy()\n",
        "  for i in range (0,X_train.shape[0]):\n",
        "    if (X_train_y['Q29_Encoded'].iloc[i]>=num):\n",
        "      df34['Q29_Encoded'].iloc[i]=1\n",
        "        \n",
        "    else:\n",
        "      df34['Q29_Encoded'].iloc[i]=0\n",
        "\n",
        "\n",
        "  X34=df34.drop(labels=['Q29_Encoded'], axis=1)\n",
        "  y34=df34['Q29_Encoded']\n",
        "\n",
        "\n",
        "  scaler = MinMaxScaler()\n",
        "  X_train_scaled = scaler.fit_transform(X34)\n",
        "  X_test_scaled = scaler.fit_transform(X_test)\n",
        "\n",
        "  model = LogisticRegression(solver=solver, C = C)\n",
        "  model.fit(X_train_scaled, y34)\n",
        "\n",
        "  # prob of array([0., 1.]).  predict x_test\n",
        "  prob = model.predict_proba(X_test_scaled)\n",
        "  \n",
        "  return prob # shape(2223, 2)"
      ],
      "metadata": {
        "id": "Z9nMyI5H25DK"
      },
      "execution_count": 34,
      "outputs": []
    },
    {
      "cell_type": "markdown",
      "source": [
        "We define the function below to merge the 14 probabilities derived from the 14 logistic regressions. The ordinal logistic model can compute the probability of every class and make classifications by choosing the class with the largest probability among the 14 classes. It return the predicted labels for each observations in the testing data."
      ],
      "metadata": {
        "id": "wToonOpjZXgm"
      }
    },
    {
      "cell_type": "code",
      "source": [
        "def ordinal_logistic_regression(X_train, y_train, X_test, y_test, solver, C):\n",
        "\n",
        "  prob_list = []\n",
        "\n",
        "  for n in range(1,15): #num 1-14\n",
        "    prob = one_log_regression(X_train, y_train, X_test, y_test, n, solver, C)\n",
        "   \n",
        "    prob_list.append(prob) # 15*[2223, 2]\n",
        "\n",
        "\n",
        "    # merge 14 classes probability to 15*2223\n",
        "  prob_14_list = []\n",
        "\n",
        "  for i in range(0, X_test.shape[0]): #2223 test observations\n",
        "\n",
        "      # prob(class0)\n",
        "    prob0 = prob_list[0][i][0]\n",
        "      # prob 1 = prob(y>=1) - prob(y>=2)\n",
        "    prob1 = prob_list[0][i][1] - prob_list[1][i][1]\n",
        "      # prob 2 = prob(y>=2) - prob(y>=3)\n",
        "    prob2 = prob_list[1][i][1] - prob_list[2][i][1]\n",
        "\n",
        "    prob3 = prob_list[2][i][1] - prob_list[3][i][1]\n",
        "\n",
        "    prob4 = prob_list[3][i][1] - prob_list[4][i][1]\n",
        "\n",
        "    prob5 = prob_list[4][i][1] - prob_list[5][i][1]\n",
        "\n",
        "    prob6 = prob_list[5][i][1] - prob_list[6][i][1]\n",
        "\n",
        "    prob7 = prob_list[6][i][1] - prob_list[7][i][1]\n",
        "\n",
        "    prob8 = prob_list[7][i][1] - prob_list[8][i][1]\n",
        "\n",
        "    prob9 = prob_list[8][i][1] - prob_list[9][i][1]\n",
        "\n",
        "    prob10 = prob_list[9][i][1] - prob_list[10][i][1]\n",
        "\n",
        "    prob11 = prob_list[10][i][1] - prob_list[11][i][1]\n",
        "\n",
        "    prob12 = prob_list[11][i][1] - prob_list[12][i][1]\n",
        "\n",
        "    prob13 = prob_list[12][i][1] - prob_list[13][i][1]\n",
        "\n",
        "    prob14 = prob_list[13][i][1]\n",
        "\n",
        "    prob_14_list.append([prob0, prob1, prob2, prob3,\\\n",
        "                      prob4, prob5, prob6,prob7,\\\n",
        "                      prob8, prob9, prob10,prob11,\\\n",
        "                      prob12, prob13, prob14])\n",
        "\n",
        "\n",
        "      # merge 15*2223 prob list to 1*2223 predicted label\n",
        "  prediction_list = []\n",
        "\n",
        "  for i in range(0, X_test.shape[0]): #2223 test observations\n",
        "    class_prob14 =  prob_14_list[i]\n",
        "\n",
        "    max_value = max(class_prob14)\n",
        "    index = class_prob14.index(max_value)\n",
        "    prediction_list.append(index)\n",
        "\n",
        "\n",
        "  return prediction_list"
      ],
      "metadata": {
        "id": "kDOFzFWKtd5q"
      },
      "execution_count": 35,
      "outputs": []
    },
    {
      "cell_type": "code",
      "source": [
        "from sklearn.metrics import classification_report"
      ],
      "metadata": {
        "id": "1PVtZek54bL8"
      },
      "execution_count": null,
      "outputs": []
    },
    {
      "cell_type": "markdown",
      "source": [
        "For question 3, we compute the accuracy of the model output by using the number of the correct predictions divided by the total number of the predictions. The predicted labels are compared with the actual y values to determine whether the model have corrent predictions."
      ],
      "metadata": {
        "id": "Il3_Kwa7lU3F"
      }
    },
    {
      "cell_type": "code",
      "source": [
        "def get_accuracy(y_test, prediction_list):\n",
        "\n",
        "\n",
        "  acc = 0\n",
        "  #from series to list\n",
        "  y_test_list = y_test.iloc[:,0].tolist()\n",
        "\n",
        "  for i in range(0, len(y_test_list)):\n",
        "    if y_test_list[i] == prediction_list[i]:\n",
        "      acc += 1\n",
        "\n",
        "\n",
        "  return round(acc/len(y_test_list),3)"
      ],
      "metadata": {
        "id": "YmWQU73dwUNx"
      },
      "execution_count": 45,
      "outputs": []
    },
    {
      "cell_type": "markdown",
      "source": [
        "Below is the repetitative work as the same data split in the previous part for convenience."
      ],
      "metadata": {
        "id": "-kqSheTxGu5R"
      }
    },
    {
      "cell_type": "code",
      "source": [
        "X = df2.drop(['Q29_Encoded'],axis=1)\n",
        "y = df2['Q29_Encoded']\n",
        "\n",
        "X = X[feature_selected.feature]\n",
        "\n",
        "X_train, X_test, y_train, y_test = train_test_split(\n",
        "    X, y, test_size=0.3, random_state=0)"
      ],
      "metadata": {
        "id": "Qc2oKsdmTx3s"
      },
      "execution_count": 103,
      "outputs": []
    },
    {
      "cell_type": "markdown",
      "source": [
        "We define the function for splitting the data into 10 folds for cross validation. The model fits training data X_train and y_train, and make predictions based on X_test. The predicted labels are compared with y_test for computing accuracy. The hyperparameter are defined as solver and C, which can be used for tuning later."
      ],
      "metadata": {
        "id": "59QymVhll7NC"
      }
    },
    {
      "cell_type": "code",
      "source": [
        "import warnings\n",
        "#warnings.filterwarnings(\"ignore\", category=ConvergenceWarning)\n",
        "warnings.filterwarnings(\"ignore\")\n",
        "import statistics as st\n",
        "\n",
        "def cross_validation(X_train, X_test, y_train, y_test, solver, C):\n",
        "\n",
        "  kfold = KFold(n_splits=10)\n",
        "  kfold.get_n_splits(X_train)\n",
        "\n",
        "  accuracy = np.zeros(10)\n",
        "  np_idx = 0\n",
        "  acc_all = []\n",
        "\n",
        "  for train_idx, test_idx in kfold.split(X_train):\n",
        "      X_train_cv, X_test_cv = X_train.values[train_idx], X_train.values[test_idx]\n",
        "      y_train_cv, y_test_cv = y_train.values[train_idx], y_train.values[test_idx]\n",
        "    \n",
        "      X_train_cv = pd.DataFrame(X_train_cv)\n",
        "      X_test_cv = pd.DataFrame(X_test_cv)\n",
        "      y_train_cv = pd.DataFrame(y_train_cv)\n",
        "      y_test_cv = pd.DataFrame(y_test_cv)\n",
        "      # print(X_train_cv.shape, type(X_train_cv), X_test_cv.shape, type(X_test_cv))\n",
        "      prediction_list = ordinal_logistic_regression(X_train_cv, y_train_cv, X_test_cv, y_test_cv, solver = solver, C=C)\n",
        "    \n",
        "      accu = get_accuracy(y_test_cv, prediction_list)\n",
        "      acc_all.append(accu)\n",
        "      np_idx += 1\n",
        "      print (\"Fold {}: Accuracy: {}%\".format(np_idx, round(accu,3)*100))\n",
        "\n",
        "  print('solover =', solver, 'C=', C, 'average accuracy =', st.mean(acc_all), 'accuracy std =', st.stdev(acc_all),)\n"
      ],
      "metadata": {
        "id": "Pu3LDFA8Vj_o"
      },
      "execution_count": 55,
      "outputs": []
    },
    {
      "cell_type": "markdown",
      "source": [
        "We tune the hyperparameter C for the selected values 1, 0.5, 0.1, 0.05, 0.01 and 0.001. The other hyperparameter solver is assigned to be 'newton-cg' in this case. Based on the results below, we have the accuracy between 30% to 40%. The model with solover = newton-cg and C= 0.05 has the highest average accuracy for the 10 folds, which is around 0.387. The corresponding standard deviation for the accuracy is around 0.026."
      ],
      "metadata": {
        "id": "iOdToI4KmRPb"
      }
    },
    {
      "cell_type": "code",
      "source": [
        "C=[1, 0.5, 0.1, 0.05, 0.01, 0.001]\n",
        "for c in C:\n",
        "  cross_validation(X_train, X_test, y_train, y_test, solver = 'newton-cg', C = c)"
      ],
      "metadata": {
        "colab": {
          "base_uri": "https://localhost:8080/"
        },
        "id": "Kazi91_Xv5kr",
        "outputId": "9d54c02b-b2db-4284-aec1-d6503902f6bb"
      },
      "execution_count": 41,
      "outputs": [
        {
          "output_type": "stream",
          "name": "stdout",
          "text": [
            "Fold 1: Accuracy: 35.3%\n",
            "Fold 2: Accuracy: 39.1%\n",
            "Fold 3: Accuracy: 39.5%\n",
            "Fold 4: Accuracy: 38.3%\n",
            "Fold 5: Accuracy: 42.0%\n",
            "Fold 6: Accuracy: 36.0%\n",
            "Fold 7: Accuracy: 35.3%\n",
            "Fold 8: Accuracy: 41.3%\n",
            "Fold 9: Accuracy: 37.3%\n",
            "Fold 10: Accuracy: 40.300000000000004%\n",
            "solover = newton-cg C= 1 average accuracy = 0.3844 accuracy std = 0.024235877904003767\n",
            "Fold 1: Accuracy: 35.3%\n",
            "Fold 2: Accuracy: 39.5%\n",
            "Fold 3: Accuracy: 40.1%\n",
            "Fold 4: Accuracy: 38.0%\n",
            "Fold 5: Accuracy: 41.8%\n",
            "Fold 6: Accuracy: 36.199999999999996%\n",
            "Fold 7: Accuracy: 34.9%\n",
            "Fold 8: Accuracy: 41.3%\n",
            "Fold 9: Accuracy: 37.3%\n",
            "Fold 10: Accuracy: 40.2%\n",
            "solover = newton-cg C= 0.5 average accuracy = 0.3846 accuracy std = 0.024797849369115332\n",
            "Fold 1: Accuracy: 35.6%\n",
            "Fold 2: Accuracy: 40.1%\n",
            "Fold 3: Accuracy: 40.1%\n",
            "Fold 4: Accuracy: 38.3%\n",
            "Fold 5: Accuracy: 41.4%\n",
            "Fold 6: Accuracy: 35.5%\n",
            "Fold 7: Accuracy: 35.099999999999994%\n",
            "Fold 8: Accuracy: 41.3%\n",
            "Fold 9: Accuracy: 38.0%\n",
            "Fold 10: Accuracy: 40.0%\n",
            "solover = newton-cg C= 0.1 average accuracy = 0.3854 accuracy std = 0.024235877904003767\n",
            "Fold 1: Accuracy: 35.8%\n",
            "Fold 2: Accuracy: 40.300000000000004%\n",
            "Fold 3: Accuracy: 39.900000000000006%\n",
            "Fold 4: Accuracy: 39.1%\n",
            "Fold 5: Accuracy: 41.4%\n",
            "Fold 6: Accuracy: 35.5%\n",
            "Fold 7: Accuracy: 34.599999999999994%\n",
            "Fold 8: Accuracy: 42.1%\n",
            "Fold 9: Accuracy: 38.4%\n",
            "Fold 10: Accuracy: 40.0%\n",
            "solover = newton-cg C= 0.05 average accuracy = 0.3871 accuracy std = 0.02587340977400029\n",
            "Fold 1: Accuracy: 35.8%\n",
            "Fold 2: Accuracy: 38.7%\n",
            "Fold 3: Accuracy: 38.5%\n",
            "Fold 4: Accuracy: 37.6%\n",
            "Fold 5: Accuracy: 40.1%\n",
            "Fold 6: Accuracy: 35.099999999999994%\n",
            "Fold 7: Accuracy: 33.0%\n",
            "Fold 8: Accuracy: 41.099999999999994%\n",
            "Fold 9: Accuracy: 37.8%\n",
            "Fold 10: Accuracy: 39.4%\n",
            "solover = newton-cg C= 0.01 average accuracy = 0.3771 accuracy std = 0.0245694028327014\n",
            "Fold 1: Accuracy: 32.800000000000004%\n",
            "Fold 2: Accuracy: 35.6%\n",
            "Fold 3: Accuracy: 36.0%\n",
            "Fold 4: Accuracy: 34.699999999999996%\n",
            "Fold 5: Accuracy: 37.8%\n",
            "Fold 6: Accuracy: 32.800000000000004%\n",
            "Fold 7: Accuracy: 30.3%\n",
            "Fold 8: Accuracy: 37.5%\n",
            "Fold 9: Accuracy: 34.2%\n",
            "Fold 10: Accuracy: 36.9%\n",
            "solover = newton-cg C= 0.001 average accuracy = 0.3486 accuracy std = 0.02388956071406737\n"
          ]
        }
      ]
    },
    {
      "cell_type": "markdown",
      "source": [
        "### Bias-variance trade-off"
      ],
      "metadata": {
        "id": "5rt15pKlJrA8"
      }
    },
    {
      "cell_type": "markdown",
      "source": [
        "The bias-variance trade-off for the model is analyzed below. For the multiclass classification problem, the bias is defined as the deviation of the average estimate from the target value, which is the mean of the squared error between the average of the predictions and the true value (bias = np.mean((np.mean(prediction) - y_test)**2). The variance is the variance of the accuray in each fold. Then we compute the average bias and variance for the 10 folds to find the bias and variance of the model with the certain C values."
      ],
      "metadata": {
        "id": "ZSvuCc7mNmMl"
      }
    },
    {
      "cell_type": "code",
      "source": [
        "import warnings\n",
        "#warnings.filterwarnings(\"ignore\", category=ConvergenceWarning)\n",
        "warnings.filterwarnings(\"ignore\")\n",
        "import statistics as st\n",
        "\n",
        "def cross_validation_bias_var(X_train, X_test, y_train, y_test, solver, C):\n",
        "  # return bias and var for these hyperparameters\n",
        "  kfold = KFold(n_splits=10)\n",
        "  kfold.get_n_splits(X_train)\n",
        "\n",
        "  np_idx = 0\n",
        "  \n",
        "  biaslist=[]\n",
        "  varslist=[]\n",
        "\n",
        "  for train_idx, test_idx in kfold.split(X_train):\n",
        "      X_train_cv, X_test_cv = X_train.values[train_idx], X_train.values[test_idx]\n",
        "      y_train_cv, y_test_cv = y_train.values[train_idx], y_train.values[test_idx]\n",
        "    \n",
        "      X_train_cv = pd.DataFrame(X_train_cv)\n",
        "      X_test_cv = pd.DataFrame(X_test_cv)\n",
        "      y_train_cv = pd.DataFrame(y_train_cv)\n",
        "      y_test_cv = pd.DataFrame(y_test_cv)\n",
        "\n",
        "      # print(X_train_cv.shape, type(X_train_cv), X_test_cv.shape, type(X_test_cv))\n",
        "      prediction_list = ordinal_logistic_regression(X_train_cv, y_train_cv, X_test_cv, y_test_cv, solver = solver, C=C)\n",
        "    \n",
        "\n",
        "      #find bias and var for each fold\n",
        "      bias, var = get_bias_var(y_test_cv, prediction_list)\n",
        "      \n",
        "      biaslist.append(bias)\n",
        "      varslist.append(var)\n",
        "\n",
        "      np_idx += 1\n",
        "\n",
        "  return st.mean(biaslist), st.mean(varslist)"
      ],
      "metadata": {
        "id": "6R6Nz7E3ScP9"
      },
      "execution_count": 76,
      "outputs": []
    },
    {
      "cell_type": "code",
      "source": [
        "def get_bias_var(y_test_cv, prediction_list):\n",
        "  \n",
        "  y_test_list = y_test_cv.squeeze()\n",
        "\n",
        "  bias = np.mean((np.mean(prediction_list) - y_test_list)**2)\n",
        "\n",
        "  var = np.var(prediction_list)\n",
        "\n",
        "  return bias, var"
      ],
      "metadata": {
        "id": "d4eIILRKYrIT"
      },
      "execution_count": 46,
      "outputs": []
    },
    {
      "cell_type": "code",
      "source": [
        "###Create bias and variance lists.\n",
        "bias_hyper = []\n",
        "var_hyper = []\n",
        "C=[1, 0.5, 0.1, 0.05, 0.01, 0.001]\n",
        "\n",
        "for c in C:\n",
        "  bias, var = cross_validation_bias_var(X_train, X_test, y_train, y_test, solver = 'newton-cg', C = c)\n",
        "  \n",
        "  bias_hyper.append(bias)\n",
        "  var_hyper.append(var)\n"
      ],
      "metadata": {
        "id": "mwW_562RJ8pq"
      },
      "execution_count": 77,
      "outputs": []
    },
    {
      "cell_type": "markdown",
      "source": [
        "The 6 biases and variances corresponding to the value C are displayed below. "
      ],
      "metadata": {
        "id": "8Fco0Yo4QYnz"
      }
    },
    {
      "cell_type": "code",
      "source": [
        "print(bias_hyper)\n",
        "print(var_hyper)"
      ],
      "metadata": {
        "colab": {
          "base_uri": "https://localhost:8080/"
        },
        "id": "xpQPTL51iQ2n",
        "outputId": "44cc3401-3305-4ccb-bb36-6bdeb1c57f5f"
      },
      "execution_count": 78,
      "outputs": [
        {
          "output_type": "stream",
          "name": "stdout",
          "text": [
            "[21.0523858162569, 21.149091783708837, 21.747833306194625, 22.42625111438751, 25.946448301874174, 35.491045297981714]\n",
            "[21.411291391489392, 21.253680973722012, 20.469530570480675, 19.646600189646268, 14.7507816040375, 0.0]\n"
          ]
        }
      ]
    },
    {
      "cell_type": "markdown",
      "source": [
        "Based on the graph below, we can see that as the model complexity increases, the variance of the model increases and the bias of the model decreases. When the model complexity is too much, the model may try to overfit the training data and have high variance. The Model with high variance captures lots of noice from training data and can not generalize on the testing data which it hasn’t seen before. In this way, as the complexity of the model increases, it may get lower accuarcy score for the test data."
      ],
      "metadata": {
        "id": "VaY5pfWhQzYs"
      }
    },
    {
      "cell_type": "code",
      "source": [
        "\n",
        "Bias = pd.DataFrame(bias_hyper,index=C)\n",
        "Variance = pd.DataFrame(var_hyper,index=C)\n",
        "plt.figure(figsize=(8,6))\n",
        "plt.plot(Bias, label=\"Bias\",linewidth = 2, marker='o')\n",
        "plt.plot(Variance, label=\"Variance\", linewidth = 2,marker='o')\n",
        "plt.legend()\n",
        "plt.title(\"Bias-Variance Trade Off for C\")\n",
        "plt.xlabel('Model Complexity')\n",
        "plt.ylabel('Error')\n",
        "plt.show()"
      ],
      "metadata": {
        "colab": {
          "base_uri": "https://localhost:8080/",
          "height": 404
        },
        "id": "bHOl9OqIiUeZ",
        "outputId": "04fb4ddb-cbc2-4914-c407-32de94d0ccdb"
      },
      "execution_count": 79,
      "outputs": [
        {
          "output_type": "display_data",
          "data": {
            "text/plain": [
              "<Figure size 576x432 with 1 Axes>"
            ],
            "image/png": "[encoded data removed]"
          },
          "metadata": {
            "needs_background": "light"
          }
        }
      ]
    },
    {
      "cell_type": "markdown",
      "source": [
        "### 4. Model tuning"
      ],
      "metadata": {
        "id": "AFMZhtCFIT0L"
      }
    },
    {
      "cell_type": "code",
      "source": [
        "from sklearn.metrics import make_scorer, confusion_matrix"
      ],
      "metadata": {
        "id": "vrfMJf5b0uyR"
      },
      "execution_count": 37,
      "outputs": []
    },
    {
      "cell_type": "markdown",
      "source": [
        "In the net step, the hyperparameters C and solver are tuned by applying grid search based on the f1 scores."
      ],
      "metadata": {
        "id": "mip9Q1tBoddK"
      }
    },
    {
      "cell_type": "code",
      "source": [
        "def get_f1_score(y_test, prediction_list):\n",
        "\n",
        "  #from series to list\n",
        "  y_test_list = y_test.squeeze()\n",
        "\n",
        "  TN = confusion_matrix(y_test_list, prediction_list)[0][0]\n",
        "  FP = confusion_matrix(y_test_list, prediction_list)[0][1]\n",
        "  FN = confusion_matrix(y_test_list, prediction_list)[1][0]\n",
        "  TP = confusion_matrix(y_test_list, prediction_list)[1][1]\n",
        "\n",
        "   \n",
        "  if (TP == 0):\n",
        "    Precision = 0\n",
        "  else: \n",
        "    Precision = TP/(TP+FP)\n",
        "\n",
        "  if (TP == 0):\n",
        "    Recall = 0\n",
        "  else: \n",
        "    Recall = TP/(TP+FN)\n",
        "\n",
        "\n",
        "  if (Recall == 0) or (Precision == 0):\n",
        "\n",
        "    f1 = 0\n",
        "  else: \n",
        "    f1 = 2*Precision*Recall/(Precision + Recall)\n",
        "\n",
        "  return f1"
      ],
      "metadata": {
        "id": "1ZOzsPiJ6RoJ"
      },
      "execution_count": 39,
      "outputs": []
    },
    {
      "cell_type": "code",
      "source": [
        "import warnings\n",
        "#warnings.filterwarnings(\"ignore\", category=ConvergenceWarning)\n",
        "warnings.filterwarnings(\"ignore\")\n",
        "import statistics as st\n",
        "\n",
        "def cross_validation_f1(X_train, X_test, y_train, y_test, solver, C):\n",
        "\n",
        "  kfold = KFold(n_splits=10)\n",
        "  kfold.get_n_splits(X_train)\n",
        "\n",
        "  accuracy = np.zeros(10)\n",
        "  np_idx = 0\n",
        "  acc_all = []\n",
        "\n",
        "\n",
        "  for train_idx, test_idx in kfold.split(X_train):\n",
        "      X_train_cv, X_test_cv = X_train.values[train_idx], X_train.values[test_idx]\n",
        "      y_train_cv, y_test_cv = y_train.values[train_idx], y_train.values[test_idx]\n",
        "    \n",
        "      X_train_cv = pd.DataFrame(X_train_cv)\n",
        "      X_test_cv = pd.DataFrame(X_test_cv)\n",
        "      y_train_cv = pd.DataFrame(y_train_cv)\n",
        "      y_test_cv = pd.DataFrame(y_test_cv)\n",
        "      # print(X_train_cv.shape, type(X_train_cv), X_test_cv.shape, type(X_test_cv))\n",
        "      prediction_list = ordinal_logistic_regression(X_train_cv, y_train_cv, X_test_cv, y_test_cv, solver = solver, C=C)\n",
        "    \n",
        "      f1 = get_f1_score(y_test_cv, prediction_list)\n",
        "      acc_all.append(f1)\n",
        "      np_idx += 1\n",
        "      print (\"Fold {}: f1 score: {}\".format(np_idx, f1))\n",
        "\n",
        "  print('solover =', solver, 'C=', C, 'average f1 score =', st.mean(acc_all), 'accuracy std =', st.stdev(acc_all))\n",
        "  return st.mean(acc_all), st.stdev(acc_all)"
      ],
      "metadata": {
        "id": "cluVCm447FJZ"
      },
      "execution_count": 40,
      "outputs": []
    },
    {
      "cell_type": "code",
      "source": [
        "\n",
        "best_params = {}\n",
        "best_accuracy = 0\n",
        "best_std = 0\n",
        "\n",
        "for C in [1, 0.1, 0.01, 0.001]:\n",
        "  for solver in ['newton-cg','lbfgs','liblinear','sag']:\n",
        "        avg_acc, std = cross_validation_f1(X_train, X_test, y_train, y_test, solver = solver, C = C)\n",
        "        \n",
        "        #print('solover =', solver, 'C=', C, 'average accuracy =', avg_acc, 'accuracy std =', std)\n",
        "\n",
        "\n",
        "        if avg_acc > best_accuracy:\n",
        "            best_params = {'C':C, 'solver':solver}\n",
        "            best_accuracy = avg_acc\n",
        "            best_std = std\n",
        "\n",
        "print (best_params)\n",
        "print (\"Best Score: {}({})\".format(best_accuracy,best_std,3))      \n",
        "\n",
        "print (\"\\nThe optimal log model uses C={}, and a {} solver, and has a cross validation f1 score of {} with a standard deviation of {}\".format(best_params['C'],best_params['solver'],best_accuracy,best_std))\n",
        "\n",
        "           "
      ],
      "metadata": {
        "colab": {
          "base_uri": "https://localhost:8080/"
        },
        "outputId": "9cbbf31b-0d20-4eed-efd3-f76bb620e4f6",
        "id": "VdTKM1Vk7dYx"
      },
      "execution_count": 41,
      "outputs": [
        {
          "output_type": "stream",
          "name": "stdout",
          "text": [
            "Fold 1: f1 score: 0\n",
            "Fold 2: f1 score: 0\n",
            "Fold 3: f1 score: 0\n",
            "Fold 4: f1 score: 0.0909090909090909\n",
            "Fold 5: f1 score: 0\n",
            "Fold 6: f1 score: 0\n",
            "Fold 7: f1 score: 0.046511627906976744\n",
            "Fold 8: f1 score: 0.03636363636363636\n",
            "Fold 9: f1 score: 0\n",
            "Fold 10: f1 score: 0.08510638297872342\n",
            "solover = newton-cg C= 1 average f1 score = 0.025889073815842743 accuracy std = 0.03695457178657299\n",
            "Fold 1: f1 score: 0\n",
            "Fold 2: f1 score: 0\n",
            "Fold 3: f1 score: 0\n",
            "Fold 4: f1 score: 0.0909090909090909\n",
            "Fold 5: f1 score: 0\n",
            "Fold 6: f1 score: 0\n",
            "Fold 7: f1 score: 0.046511627906976744\n",
            "Fold 8: f1 score: 0.03636363636363636\n",
            "Fold 9: f1 score: 0\n",
            "Fold 10: f1 score: 0.08510638297872342\n",
            "solover = lbfgs C= 1 average f1 score = 0.025889073815842743 accuracy std = 0.03695457178657299\n",
            "Fold 1: f1 score: 0\n",
            "Fold 2: f1 score: 0\n",
            "Fold 3: f1 score: 0\n",
            "Fold 4: f1 score: 0.0909090909090909\n",
            "Fold 5: f1 score: 0\n",
            "Fold 6: f1 score: 0\n",
            "Fold 7: f1 score: 0\n",
            "Fold 8: f1 score: 0.03571428571428571\n",
            "Fold 9: f1 score: 0\n",
            "Fold 10: f1 score: 0.08510638297872342\n",
            "solover = liblinear C= 1 average f1 score = 0.021172975960210002 accuracy std = 0.03696863584716678\n",
            "Fold 1: f1 score: 0\n",
            "Fold 2: f1 score: 0\n",
            "Fold 3: f1 score: 0\n",
            "Fold 4: f1 score: 0.0909090909090909\n",
            "Fold 5: f1 score: 0\n",
            "Fold 6: f1 score: 0\n",
            "Fold 7: f1 score: 0.046511627906976744\n",
            "Fold 8: f1 score: 0.03636363636363636\n",
            "Fold 9: f1 score: 0\n",
            "Fold 10: f1 score: 0.08510638297872342\n",
            "solover = sag C= 1 average f1 score = 0.025889073815842743 accuracy std = 0.03695457178657299\n",
            "Fold 1: f1 score: 0\n",
            "Fold 2: f1 score: 0\n",
            "Fold 3: f1 score: 0\n",
            "Fold 4: f1 score: 0.044444444444444446\n",
            "Fold 5: f1 score: 0\n",
            "Fold 6: f1 score: 0\n",
            "Fold 7: f1 score: 0\n",
            "Fold 8: f1 score: 0\n",
            "Fold 9: f1 score: 0\n",
            "Fold 10: f1 score: 0.04347826086956522\n",
            "solover = newton-cg C= 0.1 average f1 score = 0.008792270531400966 accuracy std = 0.018537132701819694\n",
            "Fold 1: f1 score: 0\n",
            "Fold 2: f1 score: 0\n",
            "Fold 3: f1 score: 0\n",
            "Fold 4: f1 score: 0.044444444444444446\n",
            "Fold 5: f1 score: 0\n",
            "Fold 6: f1 score: 0\n",
            "Fold 7: f1 score: 0\n",
            "Fold 8: f1 score: 0\n",
            "Fold 9: f1 score: 0\n",
            "Fold 10: f1 score: 0.04347826086956522\n",
            "solover = lbfgs C= 0.1 average f1 score = 0.008792270531400966 accuracy std = 0.018537132701819694\n",
            "Fold 1: f1 score: 0\n",
            "Fold 2: f1 score: 0\n",
            "Fold 3: f1 score: 0\n",
            "Fold 4: f1 score: 0.044444444444444446\n",
            "Fold 5: f1 score: 0\n",
            "Fold 6: f1 score: 0\n",
            "Fold 7: f1 score: 0.04545454545454545\n",
            "Fold 8: f1 score: 0\n",
            "Fold 9: f1 score: 0\n",
            "Fold 10: f1 score: 0.04347826086956522\n",
            "solover = liblinear C= 0.1 average f1 score = 0.013337725076855511 accuracy std = 0.021480829723367584\n",
            "Fold 1: f1 score: 0\n",
            "Fold 2: f1 score: 0\n",
            "Fold 3: f1 score: 0\n",
            "Fold 4: f1 score: 0.044444444444444446\n",
            "Fold 5: f1 score: 0\n",
            "Fold 6: f1 score: 0\n",
            "Fold 7: f1 score: 0\n",
            "Fold 8: f1 score: 0\n",
            "Fold 9: f1 score: 0\n",
            "Fold 10: f1 score: 0.04347826086956522\n",
            "solover = sag C= 0.1 average f1 score = 0.008792270531400966 accuracy std = 0.018537132701819694\n",
            "Fold 1: f1 score: 0\n",
            "Fold 2: f1 score: 0\n",
            "Fold 3: f1 score: 0\n",
            "Fold 4: f1 score: 0\n",
            "Fold 5: f1 score: 0\n",
            "Fold 6: f1 score: 0\n",
            "Fold 7: f1 score: 0\n",
            "Fold 8: f1 score: 0\n",
            "Fold 9: f1 score: 0\n",
            "Fold 10: f1 score: 0\n",
            "solover = newton-cg C= 0.01 average f1 score = 0 accuracy std = 0.0\n",
            "Fold 1: f1 score: 0\n",
            "Fold 2: f1 score: 0\n",
            "Fold 3: f1 score: 0\n",
            "Fold 4: f1 score: 0\n",
            "Fold 5: f1 score: 0\n",
            "Fold 6: f1 score: 0\n",
            "Fold 7: f1 score: 0\n",
            "Fold 8: f1 score: 0\n",
            "Fold 9: f1 score: 0\n",
            "Fold 10: f1 score: 0\n",
            "solover = lbfgs C= 0.01 average f1 score = 0 accuracy std = 0.0\n",
            "Fold 1: f1 score: 0\n",
            "Fold 2: f1 score: 0\n",
            "Fold 3: f1 score: 0\n",
            "Fold 4: f1 score: 0\n",
            "Fold 5: f1 score: 0\n",
            "Fold 6: f1 score: 0\n",
            "Fold 7: f1 score: 0\n",
            "Fold 8: f1 score: 0\n",
            "Fold 9: f1 score: 0\n",
            "Fold 10: f1 score: 0\n",
            "solover = liblinear C= 0.01 average f1 score = 0 accuracy std = 0.0\n",
            "Fold 1: f1 score: 0\n",
            "Fold 2: f1 score: 0\n",
            "Fold 3: f1 score: 0\n",
            "Fold 4: f1 score: 0\n",
            "Fold 5: f1 score: 0\n",
            "Fold 6: f1 score: 0\n",
            "Fold 7: f1 score: 0\n",
            "Fold 8: f1 score: 0\n",
            "Fold 9: f1 score: 0\n",
            "Fold 10: f1 score: 0\n",
            "solover = sag C= 0.01 average f1 score = 0 accuracy std = 0.0\n",
            "Fold 1: f1 score: 0\n",
            "Fold 2: f1 score: 0\n",
            "Fold 3: f1 score: 0\n",
            "Fold 4: f1 score: 0\n",
            "Fold 5: f1 score: 0\n",
            "Fold 6: f1 score: 0\n",
            "Fold 7: f1 score: 0\n",
            "Fold 8: f1 score: 0\n",
            "Fold 9: f1 score: 0\n",
            "Fold 10: f1 score: 0\n",
            "solover = newton-cg C= 0.001 average f1 score = 0 accuracy std = 0.0\n",
            "Fold 1: f1 score: 0\n",
            "Fold 2: f1 score: 0\n",
            "Fold 3: f1 score: 0\n",
            "Fold 4: f1 score: 0\n",
            "Fold 5: f1 score: 0\n",
            "Fold 6: f1 score: 0\n",
            "Fold 7: f1 score: 0\n",
            "Fold 8: f1 score: 0\n",
            "Fold 9: f1 score: 0\n",
            "Fold 10: f1 score: 0\n",
            "solover = lbfgs C= 0.001 average f1 score = 0 accuracy std = 0.0\n",
            "Fold 1: f1 score: 0\n",
            "Fold 2: f1 score: 0\n",
            "Fold 3: f1 score: 0\n",
            "Fold 4: f1 score: 0\n",
            "Fold 5: f1 score: 0\n",
            "Fold 6: f1 score: 0\n",
            "Fold 7: f1 score: 0\n",
            "Fold 8: f1 score: 0\n",
            "Fold 9: f1 score: 0\n",
            "Fold 10: f1 score: 0\n",
            "solover = liblinear C= 0.001 average f1 score = 0 accuracy std = 0.0\n",
            "Fold 1: f1 score: 0\n",
            "Fold 2: f1 score: 0\n",
            "Fold 3: f1 score: 0\n",
            "Fold 4: f1 score: 0\n",
            "Fold 5: f1 score: 0\n",
            "Fold 6: f1 score: 0\n",
            "Fold 7: f1 score: 0\n",
            "Fold 8: f1 score: 0\n",
            "Fold 9: f1 score: 0\n",
            "Fold 10: f1 score: 0\n",
            "solover = sag C= 0.001 average f1 score = 0 accuracy std = 0.0\n",
            "{'C': 1, 'solver': 'newton-cg'}\n",
            "Best Score: 0.025889073815842743(0.03695457178657299)\n",
            "\n",
            "The optimal log model uses C=1, and a newton-cg solver, and has a cross validation f1 score of 0.025889073815842743 with a standard deviation of 0.03695457178657299\n"
          ]
        }
      ]
    },
    {
      "cell_type": "markdown",
      "source": [
        "Apply computing the 16 combinations of the hyperparameters, we find the optimal model with C = 1 and solver = newton-cg."
      ],
      "metadata": {
        "id": "LYP-vmjeSAis"
      }
    },
    {
      "cell_type": "markdown",
      "source": [
        "### feature importance"
      ],
      "metadata": {
        "id": "VqzxEkrjGOPM"
      }
    },
    {
      "cell_type": "markdown",
      "source": [
        "We extract the 15 coefficients for all the 14 logistic regression models below, and compute means of coefficients the 14 models for the 15 features."
      ],
      "metadata": {
        "id": "fyTwJcjzOscn"
      }
    },
    {
      "cell_type": "code",
      "source": [
        "\n",
        "def one_log_regression_feature(X_train, y_train, X_test, y_test, num, solver, C):\n",
        "\n",
        "  X_train_y = X_train.copy()\n",
        "\n",
        "  X_train_y['Q29_Encoded'] = y_train\n",
        "\n",
        "  df34 = X_train_y.copy()\n",
        "  for i in range (0,X_train.shape[0]):\n",
        "    if (X_train_y['Q29_Encoded'].iloc[i]>=num):\n",
        "      df34['Q29_Encoded'].iloc[i]=1\n",
        "        \n",
        "    else:\n",
        "      df34['Q29_Encoded'].iloc[i]=0\n",
        "\n",
        "\n",
        "  X34=df34.drop(labels=['Q29_Encoded'], axis=1)\n",
        "  y34=df34['Q29_Encoded']\n",
        "\n",
        "\n",
        "  scaler = MinMaxScaler()\n",
        "  X_train_scaled = scaler.fit_transform(X34)\n",
        "  X_test_scaled = scaler.fit_transform(X_test)\n",
        "\n",
        "  model = LogisticRegression(solver=solver, C = C)\n",
        "  model.fit(X_train_scaled, y34)\n",
        "\n",
        "  w = model.coef_[0]\n",
        "  \n",
        "  return w"
      ],
      "metadata": {
        "id": "J99gLqN0G5LV"
      },
      "execution_count": 101,
      "outputs": []
    },
    {
      "cell_type": "code",
      "source": [
        "def ordinal_logistic_regression_feature(X_train, y_train, X_test, y_test, solver, C):\n",
        "\n",
        "  w_list = []\n",
        "\n",
        "  for n in range(1,15): #num 1-14\n",
        "    w = one_log_regression_feature(X_train, y_train, X_test, y_test, n, solver, C)\n",
        "   \n",
        "    w_list.append(w) # 15*[2223, 2]\n",
        "\n",
        "\n",
        "  return w_list"
      ],
      "metadata": {
        "id": "GTXkaGy9GQV8"
      },
      "execution_count": 114,
      "outputs": []
    },
    {
      "cell_type": "code",
      "source": [
        "w_list = ordinal_logistic_regression_feature(X_train, y_train, X_test, y_test, solver = 'newton-cg', C = 1)"
      ],
      "metadata": {
        "id": "fwcA7crkIiIK"
      },
      "execution_count": 115,
      "outputs": []
    },
    {
      "cell_type": "code",
      "source": [
        "def get_feature_weight(w_list, feature_num):\n",
        "\n",
        "  weight = []\n",
        "\n",
        "  for i in range(0, 14):\n",
        "    weight.append(w_list[i][feature_num])\n",
        "\n",
        "  return st.mean(weight)"
      ],
      "metadata": {
        "id": "0dKVuA4SKCJX"
      },
      "execution_count": 125,
      "outputs": []
    },
    {
      "cell_type": "code",
      "source": [
        "weight_list = []\n",
        "for n in range(0,15):\n",
        "  weight_list.append(get_feature_weight(w_list, n))\n"
      ],
      "metadata": {
        "id": "cXAxvRfGLtfA"
      },
      "execution_count": 126,
      "outputs": []
    },
    {
      "cell_type": "code",
      "source": [
        "weight_list_e = []\n",
        "for w in weight_list:\n",
        "  weight = pow(math.e,w)\n",
        "  weight_list_e.append(weight)"
      ],
      "metadata": {
        "id": "xbaMYZTAWBlx"
      },
      "execution_count": 142,
      "outputs": []
    },
    {
      "cell_type": "code",
      "source": [
        "import math\n",
        "feature_importance = pd.DataFrame(feature_selected.feature, columns = [\"feature\"])\n",
        "\n",
        "feature_importance[\"importance\"] = weight_list_e\n",
        "feature_importance = feature_importance.sort_values(by =['importance'], ascending = False)"
      ],
      "metadata": {
        "id": "ey5dB1dKL9vp"
      },
      "execution_count": 143,
      "outputs": []
    },
    {
      "cell_type": "code",
      "source": [
        "ax = feature_importance.plot.barh(x = 'feature', y = 'importance')\n",
        "plt.show()"
      ],
      "metadata": {
        "colab": {
          "base_uri": "https://localhost:8080/",
          "height": 265
        },
        "id": "rvxdNOLxN5jV",
        "outputId": "5b05eb9c-25ea-48fb-c8c0-2c9ab7652f2f"
      },
      "execution_count": 144,
      "outputs": [
        {
          "output_type": "display_data",
          "data": {
            "text/plain": [
              "<Figure size 432x288 with 1 Axes>"
            ],
            "image/png": "[encoded data removed]"
          },
          "metadata": {
            "needs_background": "light"
          }
        }
      ]
    },
    {
      "cell_type": "markdown",
      "source": [
        "Based on the graph above, the question Q4_USA has the largest coefficient in the regression, meaning that it is the most important feature, followed by Q2, Q16 and Q30 respectively. The results are pretty similar for the correlation plots in the previous part, where Q4_USA, Q2, Q16 are the features that have larger correlation with the target variable y."
      ],
      "metadata": {
        "id": "Lmb149_TPF4m"
      }
    },
    {
      "cell_type": "markdown",
      "source": [
        "###  5.Testing & Discussion"
      ],
      "metadata": {
        "id": "ROy0qPXohReE"
      }
    },
    {
      "cell_type": "markdown",
      "source": [
        "We use the optimal model (C=1, solver = newton-cg) to make classifications on the test set. The model is fitted with the training data."
      ],
      "metadata": {
        "id": "WvucW4ogzcUi"
      }
    },
    {
      "cell_type": "code",
      "source": [
        "prediction_list = ordinal_logistic_regression(X_train, y_train, X_test, y_test, solver = 'newton-cg', C = 1)"
      ],
      "metadata": {
        "id": "gr9pW-BmzYvx"
      },
      "execution_count": 50,
      "outputs": []
    },
    {
      "cell_type": "code",
      "source": [
        "y_test = pd.DataFrame(y_test)\n",
        "\n",
        "accu = get_accuracy(y_test, prediction_list)\n",
        "\n",
        "f1 = get_f1_score(y_test, prediction_list)\n",
        "\n",
        "bias, var = get_bias_var(y_test, prediction_list)\n",
        "\n",
        "print('Apply the optimal model for test data: test accuracy:', accu, 'test f1 score:', f1, 'bias:', bias, 'variance:', var)"
      ],
      "metadata": {
        "colab": {
          "base_uri": "https://localhost:8080/"
        },
        "id": "632iIqKDpQGT",
        "outputId": "347a4df8-5463-43e0-f5e2-8951fffc4157"
      },
      "execution_count": 55,
      "outputs": [
        {
          "output_type": "stream",
          "name": "stdout",
          "text": [
            "Apply the optimal model for test data: test accuracy: 0.394 test f1 score: 0.03980099502487562 bias: 20.364903053162163 variance: 21.535831689677842\n"
          ]
        }
      ]
    },
    {
      "cell_type": "code",
      "source": [
        "y_test = y_test.tolist()"
      ],
      "metadata": {
        "id": "rcUEdTmAqwUj"
      },
      "execution_count": 65,
      "outputs": []
    },
    {
      "cell_type": "code",
      "source": [
        "pred_count = []\n",
        "actual_count = []\n",
        "for i in range(0,15):\n",
        "\n",
        "  pred_count.append(prediction_list.count(i))\n",
        "  actual_count.append(y_test.count(i))"
      ],
      "metadata": {
        "id": "j_pnICyZtXe9"
      },
      "execution_count": 78,
      "outputs": []
    },
    {
      "cell_type": "code",
      "source": [
        "print('pred_count', pred_count)\n",
        "print('actual_count', actual_count)"
      ],
      "metadata": {
        "colab": {
          "base_uri": "https://localhost:8080/"
        },
        "id": "p7Fdws3FvfhC",
        "outputId": "f47c68ee-45a8-4232-a9c2-b98760a8078d"
      },
      "execution_count": 79,
      "outputs": [
        {
          "output_type": "stream",
          "name": "stdout",
          "text": [
            "pred_count [1581, 16, 30, 15, 47, 22, 7, 7, 3, 3, 215, 54, 173, 39, 11]\n",
            "actual_count [808, 207, 156, 132, 130, 108, 84, 80, 71, 56, 117, 76, 92, 73, 33]\n"
          ]
        }
      ]
    },
    {
      "cell_type": "code",
      "source": [
        "X = ['0','1','2','3','4','5','6','7','8','9','10','11','12','13','14']\n",
        "prd = pred_count\n",
        "act = actual_count\n",
        "  \n",
        "X_axis = np.arange(len(X))\n",
        "  \n",
        "plt.bar(X_axis - 0.2, prd, 0.4, label = 'predictions')\n",
        "plt.bar(X_axis + 0.2, act, 0.4, label = 'actual labels')\n",
        "  \n",
        "plt.xticks(X_axis, X)\n",
        "plt.xlabel(\"Groups\")\n",
        "plt.ylabel(\"Number of Students\")\n",
        "plt.title(\"Number of Students in each group\")\n",
        "plt.legend()\n",
        "plt.show()"
      ],
      "metadata": {
        "colab": {
          "base_uri": "https://localhost:8080/",
          "height": 295
        },
        "id": "uM6TfBMAww0R",
        "outputId": "d44c0d42-f31c-4f28-a649-cfee141fdc43"
      },
      "execution_count": 83,
      "outputs": [
        {
          "output_type": "display_data",
          "data": {
            "text/plain": [
              "<Figure size 432x288 with 1 Axes>"
            ],
            "image/png": "[encoded data removed]"
          },
          "metadata": {
            "needs_background": "light"
          }
        }
      ]
    },
    {
      "cell_type": "markdown",
      "source": [
        "We want to compute training accuracy by prediting the X_train and compare the predictions with the actual X_test. Then we plot the distribution of true target variable values and the predictions."
      ],
      "metadata": {
        "id": "qNTkaxo_2NrZ"
      }
    },
    {
      "cell_type": "code",
      "source": [
        "prediction_list = ordinal_logistic_regression(X_train, y_train, X_train, y_train, solver = 'newton-cg', C = 1)"
      ],
      "metadata": {
        "id": "wGvIZmpu3kV2"
      },
      "execution_count": 84,
      "outputs": []
    },
    {
      "cell_type": "code",
      "source": [
        "y_train = pd.DataFrame(y_train)\n",
        "\n",
        "accu = get_accuracy(y_train, prediction_list)\n",
        "\n",
        "f1 = get_f1_score(y_train, prediction_list)\n",
        "\n",
        "bias, var = get_bias_var(y_train, prediction_list)\n",
        "\n",
        "print('Apply the optimal model for train data: train accuracy:', accu, 'train f1 score:', f1, 'bias:', bias, 'variance:', var)"
      ],
      "metadata": {
        "colab": {
          "base_uri": "https://localhost:8080/"
        },
        "outputId": "287652c2-6604-41f1-9673-a799ae72bd4e",
        "id": "u0CEgCNh4Kcj"
      },
      "execution_count": 100,
      "outputs": [
        {
          "output_type": "stream",
          "name": "stdout",
          "text": [
            "Apply the optimal model for train data: train accuracy: 0.393 train f1 score: 0.016563146997929604 bias: 21.049503773918005 variance: 21.51778892681638\n"
          ]
        }
      ]
    },
    {
      "cell_type": "code",
      "source": [
        "y_train.squeeze()\n",
        "y_train = y_train.tolist()"
      ],
      "metadata": {
        "id": "RlPz2Qyf5H_T"
      },
      "execution_count": 96,
      "outputs": []
    },
    {
      "cell_type": "code",
      "source": [
        "pred_count = []\n",
        "actual_count = []\n",
        "for i in range(0,15):\n",
        "\n",
        "  pred_count.append(prediction_list.count(i))\n",
        "  actual_count.append(y_train.count(i))"
      ],
      "metadata": {
        "id": "peduledx48jc"
      },
      "execution_count": 97,
      "outputs": []
    },
    {
      "cell_type": "code",
      "source": [
        "print('pred_count', pred_count)\n",
        "print('actual_count', actual_count)"
      ],
      "metadata": {
        "colab": {
          "base_uri": "https://localhost:8080/"
        },
        "id": "gEusxtVR5C9y",
        "outputId": "6200e0bd-4bb9-4f77-8343-5eca12ba279a"
      },
      "execution_count": 98,
      "outputs": [
        {
          "output_type": "stream",
          "name": "stdout",
          "text": [
            "pred_count [3624, 35, 72, 54, 119, 58, 23, 22, 6, 15, 524, 112, 423, 80, 19]\n",
            "actual_count [1807, 519, 408, 301, 270, 228, 220, 194, 141, 137, 273, 183, 242, 156, 107]\n"
          ]
        }
      ]
    },
    {
      "cell_type": "code",
      "source": [
        "X = ['0','1','2','3','4','5','6','7','8','9','10','11','12','13','14']\n",
        "prd = pred_count\n",
        "act = actual_count\n",
        "  \n",
        "X_axis = np.arange(len(X))\n",
        "  \n",
        "plt.bar(X_axis - 0.2, prd, 0.4, label = 'predictions')\n",
        "plt.bar(X_axis + 0.2, act, 0.4, label = 'actual labels')\n",
        "  \n",
        "plt.xticks(X_axis, X)\n",
        "plt.xlabel(\"Groups\")\n",
        "plt.ylabel(\"Number of Students\")\n",
        "plt.title(\"Number of Students in each group\")\n",
        "plt.legend()\n",
        "plt.show()"
      ],
      "metadata": {
        "colab": {
          "base_uri": "https://localhost:8080/",
          "height": 295
        },
        "id": "fMZ-oO4G5nnt",
        "outputId": "8a31ea47-e9e5-4ffd-de0f-22b030f30548"
      },
      "execution_count": 99,
      "outputs": [
        {
          "output_type": "display_data",
          "data": {
            "text/plain": [
              "<Figure size 432x288 with 1 Axes>"
            ],
            "image/png": "[encoded data removed]"
          },
          "metadata": {
            "needs_background": "light"
          }
        }
      ]
    },
    {
      "cell_type": "markdown",
      "source": [
        "Based on the analysis above, the test accuracy is slightly above the training accuracy, which is around 0.394 (compared to 0.393 of the training). The test f1 score is also slightly above the training score (0.0398 vs 0.0166). The bias and variance are around 20 and 22 for the test data respectively. For training data, the model has the scores of 21 and 22. The accuracy of the model is similar for training and test data, indicating that the performance of the model is not bad. When predicting the test labels, the variance and bias does not change too much compared to the predictions for the training labels, meaning that the model does not overfit or underfit. However, the model still have a low performance since the accuracy is below 50 percent and it can not even predict half of the samples right. The higher test accuracy might be because that the test data is similar to the training ones and have some easier points. We may try n-fold cross validation and try more n for this problem. The low accuracy of the model also indicates that the model is not complex enough for this problem. We may try other complex machine learning algorithm such as neuron network, random forest, etc,"
      ],
      "metadata": {
        "id": "aiCpY1Oo8Plb"
      }
    },
    {
      "cell_type": "code",
      "source": [
        "%%shell\n",
        "jupyter nbconvert --to html /content/FFFFinalMIE1624_assignment_2.ipynb"
      ],
      "metadata": {
        "colab": {
          "base_uri": "https://localhost:8080/"
        },
        "id": "ujgLh_YyTRuD",
        "outputId": "bd9a6ad6-44bb-483a-9bc3-9103a83ad59c"
      },
      "execution_count": 140,
      "outputs": [
        {
          "output_type": "stream",
          "name": "stdout",
          "text": [
            "[NbConvertApp] Converting notebook /content/FFFFinalMIE1624_assignment_2.ipynb to html\n",
            "[NbConvertApp] Writing 675121 bytes to /content/FFFFinalMIE1624_assignment_2.html\n"
          ]
        },
        {
          "output_type": "execute_result",
          "data": {
            "text/plain": []
          },
          "metadata": {},
          "execution_count": 140
        }
      ]
    }
  ]
}